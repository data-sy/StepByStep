{
 "cells": [
  {
   "cell_type": "markdown",
   "metadata": {
    "id": "ONIGXb5eidfF"
   },
   "source": [
    "# 2장 자료형\n",
    "- 숫자형\n",
    "- 문자열\n",
    "- 리스트\n",
    "- 튜플\n",
    "- 딕셔너리\n",
    "- 집합\n",
    "- 불\n",
    "- 변수 : 자료형의 값을 저장하는 공간"
   ]
  },
  {
   "cell_type": "markdown",
   "metadata": {
    "id": "OdYjahyzjGKf"
   },
   "source": [
    "# 1. 숫자형"
   ]
  },
  {
   "cell_type": "code",
   "execution_count": 1,
   "metadata": {
    "executionInfo": {
     "elapsed": 3,
     "status": "ok",
     "timestamp": 1660316212829,
     "user": {
      "displayName": "이소연",
      "userId": "04702084906467308324"
     },
     "user_tz": -540
    },
    "id": "_pDrEBQ1jjfq"
   },
   "outputs": [],
   "source": [
    "# 정수형\n",
    "a = 123\n",
    "# 실수형\n",
    "b = 1.23"
   ]
  },
  {
   "cell_type": "code",
   "execution_count": 2,
   "metadata": {
    "executionInfo": {
     "elapsed": 3,
     "status": "ok",
     "timestamp": 1660316316042,
     "user": {
      "displayName": "이소연",
      "userId": "04702084906467308324"
     },
     "user_tz": -540
    },
    "id": "laizyCtIjtop"
   },
   "outputs": [],
   "source": [
    "# 컴퓨터식 지수 표현 방식\n",
    "c = 4.24E10                    # 4.24*10^10\n",
    "d = 4.24E-10                   # 4.24*10^-10"
   ]
  },
  {
   "cell_type": "code",
   "execution_count": 3,
   "metadata": {
    "executionInfo": {
     "elapsed": 336,
     "status": "ok",
     "timestamp": 1660316453956,
     "user": {
      "displayName": "이소연",
      "userId": "04702084906467308324"
     },
     "user_tz": -540
    },
    "id": "M5POAvIbkG0m"
   },
   "outputs": [],
   "source": [
    "# 8진수 : 숫자 0 알파벳 o(대소문자 상관 없음)\n",
    "# 16진수 : 숫자 0 알파벳 x (근데 뒤에 8ff 처럼 알지 못하는 형식이 붙어..)"
   ]
  },
  {
   "cell_type": "code",
   "execution_count": 4,
   "metadata": {
    "colab": {
     "base_uri": "https://localhost:8080/"
    },
    "executionInfo": {
     "elapsed": 502,
     "status": "ok",
     "timestamp": 1660316511501,
     "user": {
      "displayName": "이소연",
      "userId": "04702084906467308324"
     },
     "user_tz": -540
    },
    "id": "tdB5czt4kXCt",
    "outputId": "386e0472-dc5c-434a-98d2-c239d54a7982"
   },
   "outputs": [],
   "source": [
    "# 사칙연산\n",
    "# +, -, *, / 은 그대로"
   ]
  },
  {
   "cell_type": "code",
   "execution_count": 5,
   "metadata": {},
   "outputs": [
    {
     "data": {
      "text/plain": [
       "81"
      ]
     },
     "execution_count": 5,
     "metadata": {},
     "output_type": "execute_result"
    }
   ],
   "source": [
    "# 제곱 **\n",
    "e = 3\n",
    "f = 4\n",
    "e ** f"
   ]
  },
  {
   "cell_type": "code",
   "execution_count": 6,
   "metadata": {
    "colab": {
     "base_uri": "https://localhost:8080/"
    },
    "executionInfo": {
     "elapsed": 4,
     "status": "ok",
     "timestamp": 1660316536220,
     "user": {
      "displayName": "이소연",
      "userId": "04702084906467308324"
     },
     "user_tz": -540
    },
    "id": "gIxjfq0Jk2iX",
    "outputId": "bc3f87f5-b09f-4545-b718-ba0eb2858de1"
   },
   "outputs": [
    {
     "data": {
      "text/plain": [
       "1"
      ]
     },
     "execution_count": 6,
     "metadata": {},
     "output_type": "execute_result"
    }
   ],
   "source": [
    "# 나머지 %\n",
    "7 % 3"
   ]
  },
  {
   "cell_type": "code",
   "execution_count": 7,
   "metadata": {
    "colab": {
     "base_uri": "https://localhost:8080/"
    },
    "executionInfo": {
     "elapsed": 6,
     "status": "ok",
     "timestamp": 1660317072162,
     "user": {
      "displayName": "이소연",
      "userId": "04702084906467308324"
     },
     "user_tz": -540
    },
    "id": "b_ySOZtQk8g_",
    "outputId": "9d9ba53d-170d-443a-e623-0822dfa5f3a7"
   },
   "outputs": [
    {
     "data": {
      "text/plain": [
       "2"
      ]
     },
     "execution_count": 7,
     "metadata": {},
     "output_type": "execute_result"
    }
   ],
   "source": [
    "# 몫 //\n",
    "7//3"
   ]
  },
  {
   "cell_type": "markdown",
   "metadata": {},
   "source": [
    "# 2. 문자열"
   ]
  },
  {
   "cell_type": "markdown",
   "metadata": {
    "id": "rlNXUYyLm_hR"
   },
   "source": [
    "## ㅇ표기법 (총 4가지 = 2*2)\n",
    "- 큰 / 작은 : 문자열 안에 사용하고 싶을 때\n",
    "- 따옴표 1개 / 3개 : 문자열 내 줄바꿈 유무"
   ]
  },
  {
   "cell_type": "code",
   "execution_count": 8,
   "metadata": {
    "colab": {
     "base_uri": "https://localhost:8080/"
    },
    "executionInfo": {
     "elapsed": 4,
     "status": "ok",
     "timestamp": 1660317326170,
     "user": {
      "displayName": "이소연",
      "userId": "04702084906467308324"
     },
     "user_tz": -540
    },
    "id": "nLllHRVanGfc",
    "outputId": "7a464ebd-fc20-452c-a726-f759638bfcea"
   },
   "outputs": [
    {
     "data": {
      "text/plain": [
       "('hello world',\n",
       " 'hello world',\n",
       " 'Life is too short, You need python',\n",
       " 'Life is too short, You need python')"
      ]
     },
     "execution_count": 8,
     "metadata": {},
     "output_type": "execute_result"
    }
   ],
   "source": [
    "g = \"hello world\"\n",
    "h = 'hello world'\n",
    "i = \"\"\"Life is too short, You need python\"\"\"\n",
    "k = '''Life is too short, You need python'''\n",
    "g, h, i, k"
   ]
  },
  {
   "cell_type": "code",
   "execution_count": 9,
   "metadata": {
    "colab": {
     "base_uri": "https://localhost:8080/",
     "height": 35
    },
    "executionInfo": {
     "elapsed": 9,
     "status": "ok",
     "timestamp": 1660317395734,
     "user": {
      "displayName": "이소연",
      "userId": "04702084906467308324"
     },
     "user_tz": -540
    },
    "id": "MZFzzUzCnpeI",
    "outputId": "ca8f2393-eb3a-4d03-a154-0aa3bb5a654f"
   },
   "outputs": [
    {
     "data": {
      "text/plain": [
       "\"Python's favorite food is perl\""
      ]
     },
     "execution_count": 9,
     "metadata": {},
     "output_type": "execute_result"
    }
   ],
   "source": [
    "# 문자열 안에 작은 따옴표가 사용될 때 -> 큰 따옴표로 문자열 표현\n",
    "food = \"Python's favorite food is perl\"\n",
    "food"
   ]
  },
  {
   "cell_type": "code",
   "execution_count": 10,
   "metadata": {
    "executionInfo": {
     "elapsed": 5,
     "status": "ok",
     "timestamp": 1660317841985,
     "user": {
      "displayName": "이소연",
      "userId": "04702084906467308324"
     },
     "user_tz": -540
    },
    "id": "1idEWrftoOiC"
   },
   "outputs": [],
   "source": [
    "# 만약 작은 따옴표를 사용한다면 열고 닫는 따옴표 갯수가 맞지 않아 syntax 에러가 나"
   ]
  },
  {
   "cell_type": "code",
   "execution_count": 11,
   "metadata": {
    "executionInfo": {
     "elapsed": 4,
     "status": "ok",
     "timestamp": 1660317870004,
     "user": {
      "displayName": "이소연",
      "userId": "04702084906467308324"
     },
     "user_tz": -540
    },
    "id": "Ysb6Ndrqp7V3"
   },
   "outputs": [],
   "source": [
    "# 같은 방식으로 큰 따옴표 사용하고 싶으면 -> 작은 따옴표로 문자열 표현"
   ]
  },
  {
   "cell_type": "markdown",
   "metadata": {},
   "source": [
    "###  <font color=magenta>8월 13일</font>"
   ]
  },
  {
   "cell_type": "markdown",
   "metadata": {
    "id": "nhtl1QT1q-jF"
   },
   "source": [
    "### 백슬래시\n",
    "- 문자열 안에 따옴표 넣는 또 다른 방법 : 백슬래시(\\) 이용\n",
    "- 백슬래시 덕분에 문자 그 자체가 됨"
   ]
  },
  {
   "cell_type": "code",
   "execution_count": 12,
   "metadata": {
    "colab": {
     "base_uri": "https://localhost:8080/",
     "height": 35
    },
    "executionInfo": {
     "elapsed": 9,
     "status": "ok",
     "timestamp": 1660317901526,
     "user": {
      "displayName": "이소연",
      "userId": "04702084906467308324"
     },
     "user_tz": -540
    },
    "id": "SIru_n7fqCO3",
    "outputId": "802748fa-47a7-4bd7-de5b-4ccdeabec44d"
   },
   "outputs": [
    {
     "data": {
      "text/plain": [
       "\"python's favorite food is perl\""
      ]
     },
     "execution_count": 12,
     "metadata": {},
     "output_type": "execute_result"
    }
   ],
   "source": [
    "food ='python\\'s favorite food is perl'\n",
    "food"
   ]
  },
  {
   "cell_type": "markdown",
   "metadata": {
    "id": "iAeI6p-eqJ6F"
   },
   "source": [
    "### 문자열 내 줄바꿈\n",
    "- 줄을 바꾸는 이스케이프 코드 '\\n' 삽입하기\n",
    "- 따옴표 3개 사용\n"
   ]
  },
  {
   "cell_type": "code",
   "execution_count": 13,
   "metadata": {},
   "outputs": [
    {
     "name": "stdout",
     "output_type": "stream",
     "text": [
      "Life is too short\n",
      "You need python\n"
     ]
    }
   ],
   "source": [
    "# 이스케이프코드\n",
    "multiline = \"Life is too short\\nYou need python\"\n",
    "print(multiline)"
   ]
  },
  {
   "cell_type": "code",
   "execution_count": 14,
   "metadata": {},
   "outputs": [
    {
     "data": {
      "text/plain": [
       "'Life is too short\\nYou need python'"
      ]
     },
     "execution_count": 14,
     "metadata": {},
     "output_type": "execute_result"
    }
   ],
   "source": [
    "# 테스트\n",
    "multiline"
   ]
  },
  {
   "cell_type": "code",
   "execution_count": 15,
   "metadata": {},
   "outputs": [
    {
     "name": "stdout",
     "output_type": "stream",
     "text": [
      "Life is too short\n",
      "You need python\n",
      "Life is too short\n",
      "You need python\n"
     ]
    }
   ],
   "source": [
    "# 연속 3개 따옴표 사용\n",
    "multiline2 = '''Life is too short\n",
    "You need python'''\n",
    "print(multiline2)\n",
    "multiline3 = \"\"\"Life is too short\n",
    "You need python\"\"\"\n",
    "print(multiline3)"
   ]
  },
  {
   "cell_type": "markdown",
   "metadata": {},
   "source": [
    "## <font color=green> Q.print 안 붙이고 그냥 multiline 만 적으면 저 형태 그대로 나옴 </font>\n",
    "## <font color=green> 프린트와 그냥 변수 적는것의 차이는? ㅇㅇㅇㅇㅇ</font> "
   ]
  },
  {
   "cell_type": "markdown",
   "metadata": {
    "id": "NP319kz-qgXZ"
   },
   "source": [
    "ㅇ 정리하면 따옴표를 이용한 문자열은\n",
    "- 문자열 내 따옴표 사용을 위해 큰/작은 둘 다 가능 \n",
    "- 줄바꿈을 위해 3개 가능 (원래 1개)\n",
    "\n",
    "ㅇ 여기에 백슬래시를 이용한 방법도 각각 가능\n",
    "- 문자열 내 따옴표 사용은 그 따옴표 앞에 \\\n",
    "- 줄바꿈은 원하는 곳에 \\n 삽입\n",
    "\n",
    "cf. 책의 흐름이 이렇게 됐으면 깔끔했을텐데... 너무 물 흐르듯 을 중요시 여겼나? 구조화는 부족하네\n"
   ]
  },
  {
   "attachments": {
    "image-2.png": {
     "image/png": "[encoded data removed]"
    }
   },
   "cell_type": "markdown",
   "metadata": {},
   "source": [
    "###  이스케이프 코드\n",
    "![image-2.png](attachment:image-2.png)"
   ]
  },
  {
   "cell_type": "markdown",
   "metadata": {},
   "source": [
    "## ㅇ 문자열 연산\n",
    "- 연결 : +\n",
    "- 반복 : *"
   ]
  },
  {
   "cell_type": "code",
   "execution_count": 16,
   "metadata": {},
   "outputs": [
    {
     "data": {
      "text/plain": [
       "'Python is fun!'"
      ]
     },
     "execution_count": 16,
     "metadata": {},
     "output_type": "execute_result"
    }
   ],
   "source": [
    "# 더해서 연결\n",
    "head = 'Python'\n",
    "tail = ' is fun!'\n",
    "head+tail"
   ]
  },
  {
   "cell_type": "code",
   "execution_count": 17,
   "metadata": {},
   "outputs": [
    {
     "data": {
      "text/plain": [
       "'pythonpython'"
      ]
     },
     "execution_count": 17,
     "metadata": {},
     "output_type": "execute_result"
    }
   ],
   "source": [
    "# 곱한 건 반복\n",
    "a = 'python'\n",
    "a*2"
   ]
  },
  {
   "cell_type": "code",
   "execution_count": 18,
   "metadata": {},
   "outputs": [],
   "source": [
    "# 곱하기 - 응용 - 절취선 만들기\n",
    "# 여기서는 cmd 창 이용해서 py 파일 여는 것도 익힘"
   ]
  },
  {
   "cell_type": "markdown",
   "metadata": {},
   "source": [
    "### 문자열 길이\n",
    "- len()"
   ]
  },
  {
   "cell_type": "code",
   "execution_count": 19,
   "metadata": {},
   "outputs": [
    {
     "data": {
      "text/plain": [
       "17"
      ]
     },
     "execution_count": 19,
     "metadata": {},
     "output_type": "execute_result"
    }
   ],
   "source": [
    "b = \"Life is too short\"   #빈칸도 셈\n",
    "len(b) "
   ]
  },
  {
   "cell_type": "markdown",
   "metadata": {},
   "source": [
    "## ㅇ 인덱싱 indexing\n",
    "- 변수[인덱스번호]\n",
    "- 0부터 시작\n",
    "- 역으로 세면 음수"
   ]
  },
  {
   "cell_type": "code",
   "execution_count": 20,
   "metadata": {},
   "outputs": [
    {
     "data": {
      "text/plain": [
       "'e'"
      ]
     },
     "execution_count": 20,
     "metadata": {},
     "output_type": "execute_result"
    }
   ],
   "source": [
    "a = \"Life is too short, You need python\"\n",
    "a[3]"
   ]
  },
  {
   "cell_type": "code",
   "execution_count": 21,
   "metadata": {},
   "outputs": [
    {
     "data": {
      "text/plain": [
       "'p'"
      ]
     },
     "execution_count": 21,
     "metadata": {},
     "output_type": "execute_result"
    }
   ],
   "source": [
    "a[-6]"
   ]
  },
  {
   "cell_type": "markdown",
   "metadata": {},
   "source": [
    "## ㅇ 슬라이싱 slicing\n",
    "- 변수[시작이상:끝미만]"
   ]
  },
  {
   "cell_type": "code",
   "execution_count": 22,
   "metadata": {},
   "outputs": [
    {
     "data": {
      "text/plain": [
       "'Life'"
      ]
     },
     "execution_count": 22,
     "metadata": {},
     "output_type": "execute_result"
    }
   ],
   "source": [
    "a[0:4]"
   ]
  },
  {
   "cell_type": "code",
   "execution_count": 23,
   "metadata": {},
   "outputs": [
    {
     "data": {
      "text/plain": [
       "'rt, You need python'"
      ]
     },
     "execution_count": 23,
     "metadata": {},
     "output_type": "execute_result"
    }
   ],
   "source": [
    "a[15:]"
   ]
  },
  {
   "cell_type": "code",
   "execution_count": 24,
   "metadata": {},
   "outputs": [
    {
     "data": {
      "text/plain": [
       "'Life is too short, You need python'"
      ]
     },
     "execution_count": 24,
     "metadata": {},
     "output_type": "execute_result"
    }
   ],
   "source": [
    "a[:]"
   ]
  },
  {
   "cell_type": "code",
   "execution_count": 25,
   "metadata": {},
   "outputs": [
    {
     "data": {
      "text/plain": [
       "'rt, You need'"
      ]
     },
     "execution_count": 25,
     "metadata": {},
     "output_type": "execute_result"
    }
   ],
   "source": [
    "a[15:-7]"
   ]
  },
  {
   "cell_type": "markdown",
   "metadata": {},
   "source": [
    "## <font color=green> Q. 만약 꼬이면 어떻게 될까? </font>\n",
    "## <font color=green> A. 오류 나는 게 아니라 슬라이싱 되는 게 아무것도 없는 것! 길이도 0</font>"
   ]
  },
  {
   "cell_type": "code",
   "execution_count": 26,
   "metadata": {},
   "outputs": [
    {
     "data": {
      "text/plain": [
       "34"
      ]
     },
     "execution_count": 26,
     "metadata": {},
     "output_type": "execute_result"
    }
   ],
   "source": [
    "len(a)"
   ]
  },
  {
   "cell_type": "code",
   "execution_count": 27,
   "metadata": {
    "scrolled": true
   },
   "outputs": [
    {
     "data": {
      "text/plain": [
       "''"
      ]
     },
     "execution_count": 27,
     "metadata": {},
     "output_type": "execute_result"
    }
   ],
   "source": [
    "len(a)\n",
    "a[33:-7]"
   ]
  },
  {
   "cell_type": "code",
   "execution_count": 28,
   "metadata": {
    "scrolled": true
   },
   "outputs": [
    {
     "data": {
      "text/plain": [
       "''"
      ]
     },
     "execution_count": 28,
     "metadata": {},
     "output_type": "execute_result"
    }
   ],
   "source": [
    "a[5:2]"
   ]
  },
  {
   "cell_type": "code",
   "execution_count": 29,
   "metadata": {},
   "outputs": [
    {
     "data": {
      "text/plain": [
       "0"
      ]
     },
     "execution_count": 29,
     "metadata": {},
     "output_type": "execute_result"
    }
   ],
   "source": [
    "len(a[5:2])"
   ]
  },
  {
   "cell_type": "code",
   "execution_count": 30,
   "metadata": {},
   "outputs": [
    {
     "name": "stdout",
     "output_type": "stream",
     "text": [
      "220813\n",
      "Rainy\n"
     ]
    }
   ],
   "source": [
    "# 예제  - 문자열에서 날짜.날씨 나누기\n",
    "a = '220813Rainy'\n",
    "date = a[:6]\n",
    "weather = a[6:]\n",
    "print(date)\n",
    "print(weather)"
   ]
  },
  {
   "cell_type": "code",
   "execution_count": 31,
   "metadata": {},
   "outputs": [
    {
     "name": "stdout",
     "output_type": "stream",
     "text": [
      "pithon\n"
     ]
    },
    {
     "ename": "TypeError",
     "evalue": "'str' object does not support item assignment",
     "output_type": "error",
     "traceback": [
      "\u001b[1;31m---------------------------------------------------------------------------\u001b[0m",
      "\u001b[1;31mTypeError\u001b[0m                                 Traceback (most recent call last)",
      "\u001b[1;32m<ipython-input-31-b7916d7f7096>\u001b[0m in \u001b[0;36m<module>\u001b[1;34m\u001b[0m\n\u001b[0;32m      2\u001b[0m \u001b[0ma\u001b[0m \u001b[1;33m=\u001b[0m \u001b[1;34m'pithon'\u001b[0m\u001b[1;33m\u001b[0m\u001b[1;33m\u001b[0m\u001b[0m\n\u001b[0;32m      3\u001b[0m \u001b[0mprint\u001b[0m\u001b[1;33m(\u001b[0m\u001b[0ma\u001b[0m\u001b[1;33m)\u001b[0m\u001b[1;33m\u001b[0m\u001b[1;33m\u001b[0m\u001b[0m\n\u001b[1;32m----> 4\u001b[1;33m \u001b[0ma\u001b[0m\u001b[1;33m[\u001b[0m\u001b[1;36m1\u001b[0m\u001b[1;33m]\u001b[0m \u001b[1;33m=\u001b[0m \u001b[1;34m'y'\u001b[0m\u001b[1;33m\u001b[0m\u001b[1;33m\u001b[0m\u001b[0m\n\u001b[0m\u001b[0;32m      5\u001b[0m \u001b[0mpirnt\u001b[0m\u001b[1;33m(\u001b[0m\u001b[0ma\u001b[0m\u001b[1;33m)\u001b[0m\u001b[1;33m\u001b[0m\u001b[1;33m\u001b[0m\u001b[0m\n",
      "\u001b[1;31mTypeError\u001b[0m: 'str' object does not support item assignment"
     ]
    }
   ],
   "source": [
    "# 인덱싱 이용해서 오타 바꾸기 시도\n",
    "a = 'pithon'\n",
    "print(a)\n",
    "a[1] = 'y'\n",
    "pirnt(a)"
   ]
  },
  {
   "cell_type": "markdown",
   "metadata": {},
   "source": [
    "- 문자열의 요솟값은 바꿀 수 있는 값이 아니기 때문에 (immutable한 자료형) 요솟값 변경 불가능\n",
    "- 이 방법 이용하려면 슬라이싱 사용해서 쪼개주고 -> 수정된 문자와 함께 다시 연결"
   ]
  },
  {
   "cell_type": "code",
   "execution_count": 32,
   "metadata": {},
   "outputs": [
    {
     "data": {
      "text/plain": [
       "'python'"
      ]
     },
     "execution_count": 32,
     "metadata": {},
     "output_type": "execute_result"
    }
   ],
   "source": [
    "a[:1]+'y'+a[2:]"
   ]
  },
  {
   "cell_type": "markdown",
   "metadata": {},
   "source": [
    "=> 그렇다면 문자열의 요솟값 자유자재로 바꾸려면?    포매팅!!"
   ]
  },
  {
   "cell_type": "markdown",
   "metadata": {},
   "source": [
    "###  <font color=magenta>8월 14일</font>"
   ]
  },
  {
   "attachments": {
    "image.png": {
     "image/png": "[encoded data removed]"
    }
   },
   "cell_type": "markdown",
   "metadata": {},
   "source": [
    "## ㅇ 문자열 포매팅 방법① : 포맷 코드(%)\n",
    "![image.png](attachment:image.png)\n",
    "- %s를 쓰면 다 문자열로 인식\n",
    "- 2개 이상은 ( , )\n",
    "- %% : 포맷코드의 %와 문자열%을 같이 쓰고 싶을 때"
   ]
  },
  {
   "cell_type": "code",
   "execution_count": 33,
   "metadata": {},
   "outputs": [
    {
     "data": {
      "text/plain": [
       "'I eat 3 apples.'"
      ]
     },
     "execution_count": 33,
     "metadata": {},
     "output_type": "execute_result"
    }
   ],
   "source": [
    "# 숫자 바로 대입\n",
    "\"I eat %d apples.\"%3"
   ]
  },
  {
   "cell_type": "code",
   "execution_count": 34,
   "metadata": {},
   "outputs": [
    {
     "data": {
      "text/plain": [
       "'I eat five apples.'"
      ]
     },
     "execution_count": 34,
     "metadata": {},
     "output_type": "execute_result"
    }
   ],
   "source": [
    "# 문자열 바로 대입\n",
    "\"I eat %s apples.\"%\"five\""
   ]
  },
  {
   "cell_type": "code",
   "execution_count": 35,
   "metadata": {},
   "outputs": [
    {
     "data": {
      "text/plain": [
       "'I eat 3 apples.'"
      ]
     },
     "execution_count": 35,
     "metadata": {},
     "output_type": "execute_result"
    }
   ],
   "source": [
    "# 숫자 값 나타내는 변수로 대입 (d 사용)\n",
    "num=3\n",
    "\"I eat %d apples.\"%num"
   ]
  },
  {
   "cell_type": "code",
   "execution_count": 36,
   "metadata": {},
   "outputs": [
    {
     "data": {
      "text/plain": [
       "'I eat 3 apples. so I was sick for three days'"
      ]
     },
     "execution_count": 36,
     "metadata": {},
     "output_type": "execute_result"
    }
   ],
   "source": [
    "# 2개 이상의 값 넣기 : 튜플 사용\n",
    "day='three'\n",
    "\"I eat %d apples. so I was sick for %s days\"%(num, day)"
   ]
  },
  {
   "cell_type": "code",
   "execution_count": 37,
   "metadata": {},
   "outputs": [
    {
     "data": {
      "text/plain": [
       "'I eat 3 apples.'"
      ]
     },
     "execution_count": 37,
     "metadata": {},
     "output_type": "execute_result"
    }
   ],
   "source": [
    "# 사실 s로 뭐든 가능. 다 문자열로 형변환해서 넣음\n",
    "\"I eat %s apples.\"%num"
   ]
  },
  {
   "cell_type": "code",
   "execution_count": 38,
   "metadata": {},
   "outputs": [
    {
     "data": {
      "text/plain": [
       "'Error is 98%'"
      ]
     },
     "execution_count": 38,
     "metadata": {},
     "output_type": "execute_result"
    }
   ],
   "source": [
    "# 포맷코드의 %와 문자열%을 같이 쓰고 싶을 때 : %%\n",
    "'Error is %d%%'%98"
   ]
  },
  {
   "cell_type": "markdown",
   "metadata": {},
   "source": [
    "### 정렬과 공백\n",
    "- %10s : 10칸에 오른쪽 정렬로 문자열 들어가\n",
    "- %-10s : 10칸에 왼쪽 정렬로 문자열 들어가"
   ]
  },
  {
   "cell_type": "code",
   "execution_count": 39,
   "metadata": {},
   "outputs": [
    {
     "data": {
      "text/plain": [
       "'        hi'"
      ]
     },
     "execution_count": 39,
     "metadata": {},
     "output_type": "execute_result"
    }
   ],
   "source": [
    "\"%10s\" %'hi'"
   ]
  },
  {
   "cell_type": "code",
   "execution_count": 40,
   "metadata": {},
   "outputs": [
    {
     "data": {
      "text/plain": [
       "'hi        '"
      ]
     },
     "execution_count": 40,
     "metadata": {},
     "output_type": "execute_result"
    }
   ],
   "source": [
    "\"%-10s\" %'hi'"
   ]
  },
  {
   "cell_type": "markdown",
   "metadata": {},
   "source": [
    "### 소수점 표현\n",
    "- %0.4f : 소수점 4번째 자리까지만"
   ]
  },
  {
   "cell_type": "code",
   "execution_count": 41,
   "metadata": {},
   "outputs": [
    {
     "data": {
      "text/plain": [
       "'3.4213'"
      ]
     },
     "execution_count": 41,
     "metadata": {},
     "output_type": "execute_result"
    }
   ],
   "source": [
    "\"%0.4f\" %3.421312"
   ]
  },
  {
   "cell_type": "code",
   "execution_count": 42,
   "metadata": {},
   "outputs": [
    {
     "data": {
      "text/plain": [
       "'    3.4213'"
      ]
     },
     "execution_count": 42,
     "metadata": {},
     "output_type": "execute_result"
    }
   ],
   "source": [
    "# 둘을 섞어 사용하면?\n",
    "# 10.4 : 전체 길이 10인 문자열 공간에 / 오른쪽 정렬로 / 소수점 4째자리까지\n",
    "\"%10.4f\" %3.421312"
   ]
  },
  {
   "cell_type": "markdown",
   "metadata": {},
   "source": [
    "## ㅇ 문자열 포매팅 방법② : format 함수\n",
    "- 인덱스 : '문자열 안에서 원하는 곳에 {튜플의인덱스} 표시'.format(입력값, 여러개면 튜플 사용)\n",
    "- 이름 : '문자열 안에서 원하는 곳에 {이름} 표시'.format(이름=값)\n",
    "- 인덱스와 이름 혼용 사용 가능"
   ]
  },
  {
   "cell_type": "code",
   "execution_count": 43,
   "metadata": {},
   "outputs": [
    {
     "data": {
      "text/plain": [
       "'I eat 3 apples'"
      ]
     },
     "execution_count": 43,
     "metadata": {},
     "output_type": "execute_result"
    }
   ],
   "source": [
    "# 숫자 바로 대입\n",
    "'I eat {0} apples'.format(3)"
   ]
  },
  {
   "cell_type": "code",
   "execution_count": 44,
   "metadata": {},
   "outputs": [
    {
     "data": {
      "text/plain": [
       "'I eat five apples'"
      ]
     },
     "execution_count": 44,
     "metadata": {},
     "output_type": "execute_result"
    }
   ],
   "source": [
    "# 문자열 바로 대입\n",
    "'I eat {0} apples'.format('five')"
   ]
  },
  {
   "cell_type": "code",
   "execution_count": 45,
   "metadata": {},
   "outputs": [
    {
     "data": {
      "text/plain": [
       "'I eat 2 apples'"
      ]
     },
     "execution_count": 45,
     "metadata": {},
     "output_type": "execute_result"
    }
   ],
   "source": [
    "# 변수로 대입\n",
    "num=2\n",
    "'I eat {0} apples'.format(num)"
   ]
  },
  {
   "cell_type": "code",
   "execution_count": 46,
   "metadata": {},
   "outputs": [
    {
     "data": {
      "text/plain": [
       "'I ate 2 apples. so I was sick for six days'"
      ]
     },
     "execution_count": 46,
     "metadata": {},
     "output_type": "execute_result"
    }
   ],
   "source": [
    "# 2개 이상의 값\n",
    "day = 'six'\n",
    "\"I ate {0} apples. so I was sick for {1} days\".format(num, day)"
   ]
  },
  {
   "cell_type": "code",
   "execution_count": 47,
   "metadata": {},
   "outputs": [
    {
     "data": {
      "text/plain": [
       "'I ate 10 apples. so I was sick for 3 days'"
      ]
     },
     "execution_count": 47,
     "metadata": {},
     "output_type": "execute_result"
    }
   ],
   "source": [
    "# 이름 사용\n",
    "\"I ate {num1} apples. so I was sick for {day1} days\".format(num1=10, day1=3)"
   ]
  },
  {
   "cell_type": "code",
   "execution_count": 48,
   "metadata": {},
   "outputs": [
    {
     "data": {
      "text/plain": [
       "'I ate 9 apples. so I was sick for 2 days'"
      ]
     },
     "execution_count": 48,
     "metadata": {},
     "output_type": "execute_result"
    }
   ],
   "source": [
    "# 인덱스와 이름 혼용\n",
    "\"I ate {0} apples. so I was sick for {day2} days\".format(9, day2=2)"
   ]
  },
  {
   "cell_type": "markdown",
   "metadata": {},
   "source": [
    "###  정렬\n",
    "- 인덱스:<칸개수 : 왼쪽 정렬\n",
    "-:> : 오른쪽 정렬\n",
    "- :^ : 가운데 정렬\n",
    "- :채워넣을문자<>^ : 공백을 문자로 채워 줌"
   ]
  },
  {
   "cell_type": "code",
   "execution_count": 49,
   "metadata": {},
   "outputs": [
    {
     "data": {
      "text/plain": [
       "'hi        '"
      ]
     },
     "execution_count": 49,
     "metadata": {},
     "output_type": "execute_result"
    }
   ],
   "source": [
    "'{0:<10}'.format('hi')"
   ]
  },
  {
   "cell_type": "code",
   "execution_count": 50,
   "metadata": {},
   "outputs": [
    {
     "data": {
      "text/plain": [
       "'        hi'"
      ]
     },
     "execution_count": 50,
     "metadata": {},
     "output_type": "execute_result"
    }
   ],
   "source": [
    "'{0:>10}'.format('hi')"
   ]
  },
  {
   "cell_type": "code",
   "execution_count": 51,
   "metadata": {},
   "outputs": [
    {
     "data": {
      "text/plain": [
       "'    hi    '"
      ]
     },
     "execution_count": 51,
     "metadata": {},
     "output_type": "execute_result"
    }
   ],
   "source": [
    "'{0:^10}'.format('hi')"
   ]
  },
  {
   "cell_type": "code",
   "execution_count": 52,
   "metadata": {},
   "outputs": [
    {
     "data": {
      "text/plain": [
       "'====hi===='"
      ]
     },
     "execution_count": 52,
     "metadata": {},
     "output_type": "execute_result"
    }
   ],
   "source": [
    "'{0:=^10}'.format('hi')"
   ]
  },
  {
   "cell_type": "code",
   "execution_count": 53,
   "metadata": {},
   "outputs": [
    {
     "data": {
      "text/plain": [
       "'===hi===='"
      ]
     },
     "execution_count": 53,
     "metadata": {},
     "output_type": "execute_result"
    }
   ],
   "source": [
    "'{0:=^9}'.format('hi')  # 실험 : 가운데 정렬이 홀수일때는? 나눗셈 몫으로 사용하는 듯!"
   ]
  },
  {
   "cell_type": "markdown",
   "metadata": {},
   "source": [
    "###  소수점 표현\n",
    "- :0.4f : 소수점 4번째 자리까지만\n",
    "- :10.4f : 자리수 10 오른쪽 정렬 / 소수점 4번째 자리까지만 \n",
    "- {{}} : 포매팅 문자 {}와 문자열 {}(중괄호 brace)을 같이 쓰고 싶을 때"
   ]
  },
  {
   "cell_type": "code",
   "execution_count": 54,
   "metadata": {},
   "outputs": [
    {
     "data": {
      "text/plain": [
       "'3.4213'"
      ]
     },
     "execution_count": 54,
     "metadata": {},
     "output_type": "execute_result"
    }
   ],
   "source": [
    "y = 3.42134234\n",
    "'{0:0.4f}'.format(y)"
   ]
  },
  {
   "cell_type": "code",
   "execution_count": 55,
   "metadata": {},
   "outputs": [
    {
     "data": {
      "text/plain": [
       "'    3.4213'"
      ]
     },
     "execution_count": 55,
     "metadata": {},
     "output_type": "execute_result"
    }
   ],
   "source": [
    "'{0:10.4f}'.format(y)"
   ]
  },
  {
   "cell_type": "code",
   "execution_count": 56,
   "metadata": {},
   "outputs": [
    {
     "data": {
      "text/plain": [
       "'{and}'"
      ]
     },
     "execution_count": 56,
     "metadata": {},
     "output_type": "execute_result"
    }
   ],
   "source": [
    "'{{and}}'.format()"
   ]
  },
  {
   "cell_type": "code",
   "execution_count": 57,
   "metadata": {},
   "outputs": [
    {
     "data": {
      "text/plain": [
       "'{0} 테스트 중 a 하나더 a'"
      ]
     },
     "execution_count": 57,
     "metadata": {},
     "output_type": "execute_result"
    }
   ],
   "source": [
    "test = 'a'\n",
    "'{{0}} 테스트 중 {0} 하나더 {0}'.format(test) #즉, 중괄호를 2개 치면 포매팅문자로서의 기능을 안 한다는 의미!!"
   ]
  },
  {
   "cell_type": "markdown",
   "metadata": {},
   "source": [
    "## ㅇ 문자열 포매팅 방법③ : f 접두사\n",
    "- 문자열 앞에 f 접두사 붙이기\n",
    "- 표현식 지원 : 문자열 안에서 변수와 +, - 와 같은 수식 함께 사용하는 것\n",
    "- 딕셔너리 활용 가능"
   ]
  },
  {
   "cell_type": "code",
   "execution_count": 58,
   "metadata": {},
   "outputs": [
    {
     "data": {
      "text/plain": [
       "'나의 이름은 홍길동입니다. 나이는 30입니다.'"
      ]
     },
     "execution_count": 58,
     "metadata": {},
     "output_type": "execute_result"
    }
   ],
   "source": [
    "name = '홍길동'\n",
    "age = 30\n",
    "f'나의 이름은 {name}입니다. 나이는 {age}입니다.'"
   ]
  },
  {
   "cell_type": "code",
   "execution_count": 59,
   "metadata": {},
   "outputs": [
    {
     "data": {
      "text/plain": [
       "'나는 내년이면 31살이 된다.'"
      ]
     },
     "execution_count": 59,
     "metadata": {},
     "output_type": "execute_result"
    }
   ],
   "source": [
    "# 포매팅 자리에 수식 사용 가능  ------------------------------ 오! 그러면 f가 가장 범용적인 사용방법인가?\n",
    "f'나는 내년이면 {age+1}살이 된다.'"
   ]
  },
  {
   "cell_type": "code",
   "execution_count": 60,
   "metadata": {},
   "outputs": [
    {
     "data": {
      "text/plain": [
       "'나의 이름은 홍홍입니다. 나이는 20 입니다.'"
      ]
     },
     "execution_count": 60,
     "metadata": {},
     "output_type": "execute_result"
    }
   ],
   "source": [
    "# 딕셔너리 사용\n",
    "d={'name':'홍홍', 'age':20}\n",
    "f'나의 이름은 {d[\"name\"]}입니다. 나이는 {d[\"age\"]} 입니다.'"
   ]
  },
  {
   "cell_type": "markdown",
   "metadata": {},
   "source": [
    "## <font color=red> 내가 여기서 계속 신텍스 에러가 났었어 </font> \n",
    "## <font color=red> 원인은 문자열을 다 ''(작은따옴표)로 표기했기 때문 </font> \n",
    "## <font color=red> ㅇㅇㅇㅇㅇ문자열 - 따옴표 항상 주의ㅇㅇㅇㅇㅇ</font> "
   ]
  },
  {
   "cell_type": "markdown",
   "metadata": {},
   "source": [
    "###  정렬과 공백"
   ]
  },
  {
   "cell_type": "code",
   "execution_count": 61,
   "metadata": {},
   "outputs": [
    {
     "data": {
      "text/plain": [
       "'f 접두사 포매팅 test       공백입니다.'"
      ]
     },
     "execution_count": 61,
     "metadata": {},
     "output_type": "execute_result"
    }
   ],
   "source": [
    "t=\"test\"\n",
    "f'f 접두사 포매팅 {t:<10} 공백입니다.'"
   ]
  },
  {
   "cell_type": "code",
   "execution_count": 62,
   "metadata": {},
   "outputs": [
    {
     "data": {
      "text/plain": [
       "'f 접두사 포매팅 ===test=== 공백입니다.'"
      ]
     },
     "execution_count": 62,
     "metadata": {},
     "output_type": "execute_result"
    }
   ],
   "source": [
    "f'f 접두사 포매팅 {t:=^10} 공백입니다.'"
   ]
  },
  {
   "cell_type": "markdown",
   "metadata": {},
   "source": [
    "###  소수점 표현"
   ]
  },
  {
   "cell_type": "code",
   "execution_count": 64,
   "metadata": {
    "scrolled": true
   },
   "outputs": [
    {
     "data": {
      "text/plain": [
       "'f접두사 포매팅 소수 3.4359'"
      ]
     },
     "execution_count": 64,
     "metadata": {},
     "output_type": "execute_result"
    }
   ],
   "source": [
    "s = 3.435872\n",
    "f'f접두사 포매팅 소수 {s:0.4f}'"
   ]
  },
  {
   "cell_type": "code",
   "execution_count": 65,
   "metadata": {},
   "outputs": [
    {
     "data": {
      "text/plain": [
       "'f접두사 포매팅 소수     3.4359'"
      ]
     },
     "execution_count": 65,
     "metadata": {},
     "output_type": "execute_result"
    }
   ],
   "source": [
    "f'f접두사 포매팅 소수 {s:10.4f}'"
   ]
  },
  {
   "cell_type": "code",
   "execution_count": 78,
   "metadata": {},
   "outputs": [],
   "source": [
    "# 예제 - format함수, f문자열 이용해서 !!!python!!! 출력해보자"
   ]
  },
  {
   "cell_type": "code",
   "execution_count": 79,
   "metadata": {},
   "outputs": [
    {
     "ename": "ValueError",
     "evalue": "Invalid format specifier",
     "output_type": "error",
     "traceback": [
      "\u001b[1;31m---------------------------------------------------------------------------\u001b[0m",
      "\u001b[1;31mValueError\u001b[0m                                Traceback (most recent call last)",
      "\u001b[1;32m<ipython-input-79-6b3053258b26>\u001b[0m in \u001b[0;36m<module>\u001b[1;34m\u001b[0m\n\u001b[0;32m      2\u001b[0m \u001b[1;31m# 아냐 ... ! 위치가 : 와 ^12 사이에 있어야지\u001b[0m\u001b[1;33m\u001b[0m\u001b[1;33m\u001b[0m\u001b[1;33m\u001b[0m\u001b[0m\n\u001b[0;32m      3\u001b[0m \u001b[0mp\u001b[0m \u001b[1;33m=\u001b[0m \u001b[1;34m\"python\"\u001b[0m\u001b[1;33m\u001b[0m\u001b[1;33m\u001b[0m\u001b[0m\n\u001b[1;32m----> 4\u001b[1;33m \u001b[1;34m'{0:^!12}'\u001b[0m\u001b[1;33m.\u001b[0m\u001b[0mformat\u001b[0m\u001b[1;33m(\u001b[0m\u001b[0mp\u001b[0m\u001b[1;33m)\u001b[0m\u001b[1;33m\u001b[0m\u001b[1;33m\u001b[0m\u001b[0m\n\u001b[0m",
      "\u001b[1;31mValueError\u001b[0m: Invalid format specifier"
     ]
    }
   ],
   "source": [
    "# 느낌표는 { 처럼 포맷팅 안에 들어가면 문자로 사용되지 않는걸까?\n",
    "# 아냐 ... ! 위치가 : 와 ^12 사이에 있어야지\n",
    "p = \"python\"\n",
    "'{0:^!12}'.format(p)"
   ]
  },
  {
   "cell_type": "code",
   "execution_count": 80,
   "metadata": {},
   "outputs": [
    {
     "data": {
      "text/plain": [
       "'!!!python!!!'"
      ]
     },
     "execution_count": 80,
     "metadata": {},
     "output_type": "execute_result"
    }
   ],
   "source": [
    "'{0:!^12}'.format(p)"
   ]
  },
  {
   "cell_type": "code",
   "execution_count": 81,
   "metadata": {},
   "outputs": [
    {
     "data": {
      "text/plain": [
       "'!!!python!!!'"
      ]
     },
     "execution_count": 81,
     "metadata": {},
     "output_type": "execute_result"
    }
   ],
   "source": [
    "f'{p:!^12}'"
   ]
  },
  {
   "cell_type": "markdown",
   "metadata": {},
   "source": [
    "## ㅇ 문자열 내장 함수\n",
    "- 변수.count(문자) : 변수 안의 문자 개수\n",
    "- 변수.find(문자) : 변수에서 문자가 처음 나온 위치(인덱스)\n",
    "    - 없다면 -1 반환\n",
    "- 변수.index(문자) : 변수에서 문자가 처음 나온 위치(인덱스)\n",
    "    - 없다면 오류 발생 (ValueError)\n",
    "- 변수.join(문자열) : 변수'를' 문자열 사이에 삽입 (cf.약간 패턴이 달라짐)\n",
    "- upper() : 소문자를 대문자로\n",
    "- lower() : 대문자를 소문자로\n",
    "- lstrip() : 왼쪽 공백 지우기\n",
    "- rstrip() : 오른쪽 공백 지우기\n",
    "- strip() : 양쪽 공백 지우기\n",
    "- replace(ㅇ,ㅁ) : ㅇ를 ㅁ으로 문자열 바꾸기\n",
    "- split(분리기준 문자열) : 문자열 나누기\n",
    "    - split() : 괄호 비어있으면 공백(스페이스, 탭, 엔터 등)을 기준으로 나눔\n",
    "    - 나눈 값은 리스트에 순차적으로 들어 가"
   ]
  },
  {
   "cell_type": "markdown",
   "metadata": {},
   "source": [
    "## <font color=green> Q. find와 index의 원론적인 차이는? </font>\n",
    "## <font color=green> 왜 두 가지가 나왔는지.. 어떤 책에서 본 거 같은디.. 첫파이썬 책 뒤져보자 </font> "
   ]
  },
  {
   "cell_type": "code",
   "execution_count": 82,
   "metadata": {},
   "outputs": [
    {
     "data": {
      "text/plain": [
       "2"
      ]
     },
     "execution_count": 82,
     "metadata": {},
     "output_type": "execute_result"
    }
   ],
   "source": [
    "test1 = 'hobby'\n",
    "test1.count('b')"
   ]
  },
  {
   "cell_type": "code",
   "execution_count": 83,
   "metadata": {},
   "outputs": [
    {
     "data": {
      "text/plain": [
       "14"
      ]
     },
     "execution_count": 83,
     "metadata": {},
     "output_type": "execute_result"
    }
   ],
   "source": [
    "test2 = \"Python is the best choice\"\n",
    "test2.find('b')"
   ]
  },
  {
   "cell_type": "code",
   "execution_count": 84,
   "metadata": {},
   "outputs": [
    {
     "data": {
      "text/plain": [
       "-1"
      ]
     },
     "execution_count": 84,
     "metadata": {},
     "output_type": "execute_result"
    }
   ],
   "source": [
    "test2.find('k')"
   ]
  },
  {
   "cell_type": "code",
   "execution_count": 85,
   "metadata": {},
   "outputs": [
    {
     "data": {
      "text/plain": [
       "14"
      ]
     },
     "execution_count": 85,
     "metadata": {},
     "output_type": "execute_result"
    }
   ],
   "source": [
    "test2.index('b')"
   ]
  },
  {
   "cell_type": "code",
   "execution_count": 86,
   "metadata": {},
   "outputs": [
    {
     "ename": "ValueError",
     "evalue": "substring not found",
     "output_type": "error",
     "traceback": [
      "\u001b[1;31m---------------------------------------------------------------------------\u001b[0m",
      "\u001b[1;31mValueError\u001b[0m                                Traceback (most recent call last)",
      "\u001b[1;32m<ipython-input-86-752fe4c94fba>\u001b[0m in \u001b[0;36m<module>\u001b[1;34m\u001b[0m\n\u001b[1;32m----> 1\u001b[1;33m \u001b[0mtest2\u001b[0m\u001b[1;33m.\u001b[0m\u001b[0mindex\u001b[0m\u001b[1;33m(\u001b[0m\u001b[1;34m'k'\u001b[0m\u001b[1;33m)\u001b[0m\u001b[1;33m\u001b[0m\u001b[1;33m\u001b[0m\u001b[0m\n\u001b[0m",
      "\u001b[1;31mValueError\u001b[0m: substring not found"
     ]
    }
   ],
   "source": [
    "test2.index('k')"
   ]
  },
  {
   "cell_type": "code",
   "execution_count": 88,
   "metadata": {},
   "outputs": [
    {
     "data": {
      "text/plain": [
       "'a-join-b-join-c-join-d'"
      ]
     },
     "execution_count": 88,
     "metadata": {},
     "output_type": "execute_result"
    }
   ],
   "source": [
    "test3 = 'abcd'\n",
    "jj = '-join-'\n",
    "jj.join(test3)"
   ]
  },
  {
   "cell_type": "code",
   "execution_count": 89,
   "metadata": {},
   "outputs": [
    {
     "data": {
      "text/plain": [
       "'HI'"
      ]
     },
     "execution_count": 89,
     "metadata": {},
     "output_type": "execute_result"
    }
   ],
   "source": [
    "'hi'.upper()"
   ]
  },
  {
   "cell_type": "code",
   "execution_count": 90,
   "metadata": {},
   "outputs": [
    {
     "data": {
      "text/plain": [
       "'hi'"
      ]
     },
     "execution_count": 90,
     "metadata": {},
     "output_type": "execute_result"
    }
   ],
   "source": [
    "'HI'.lower()"
   ]
  },
  {
   "cell_type": "code",
   "execution_count": 91,
   "metadata": {},
   "outputs": [
    {
     "data": {
      "text/plain": [
       "'k 를 k 로 replkce 해보자'"
      ]
     },
     "execution_count": 91,
     "metadata": {},
     "output_type": "execute_result"
    }
   ],
   "source": [
    "test4 = 'a 를 k 로 replace 해보자'\n",
    "test4.replace('a', 'k')"
   ]
  },
  {
   "cell_type": "code",
   "execution_count": 92,
   "metadata": {},
   "outputs": [
    {
     "data": {
      "text/plain": [
       "['공백을', '기준으로', '문자열', '나누기']"
      ]
     },
     "execution_count": 92,
     "metadata": {},
     "output_type": "execute_result"
    }
   ],
   "source": [
    "test5 = '공백을 기준으로 문자열 나누기'\n",
    "test5.split()"
   ]
  }
 ],
 "metadata": {
  "colab": {
   "authorship_tag": "ABX9TyOzXY4tLFRYWMkzGCpKM64P",
   "collapsed_sections": [],
   "name": "점프 투 파이썬.ipynb",
   "provenance": []
  },
  "kernelspec": {
   "display_name": "Python 3",
   "language": "python",
   "name": "python3"
  },
  "language_info": {
   "codemirror_mode": {
    "name": "ipython",
    "version": 3
   },
   "file_extension": ".py",
   "mimetype": "text/x-python",
   "name": "python",
   "nbconvert_exporter": "python",
   "pygments_lexer": "ipython3",
   "version": "3.8.5"
  }
 },
 "nbformat": 4,
 "nbformat_minor": 1
}
