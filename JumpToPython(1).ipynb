{
 "cells": [
  {
   "cell_type": "markdown",
   "metadata": {
    "id": "UycgbfCzhThP"
   },
   "source": [
    "## 8월 12일"
   ]
  },
  {
   "cell_type": "markdown",
   "metadata": {
    "id": "Bg0SMXERivbV"
   },
   "source": [
    "# 1장 파이썬이란"
   ]
  },
  {
   "cell_type": "code",
   "execution_count": 1,
   "metadata": {
    "colab": {
     "base_uri": "https://localhost:8080/"
    },
    "executionInfo": {
     "elapsed": 5,
     "status": "ok",
     "timestamp": 1660315620174,
     "user": {
      "displayName": "이소연",
      "userId": "04702084906467308324"
     },
     "user_tz": -540
    },
    "id": "jw1PJPSYhbr4",
    "outputId": "f443e38e-5e22-4fd0-d3a1-211097f9710a"
   },
   "outputs": [
    {
     "data": {
      "text/plain": [
       "2"
      ]
     },
     "execution_count": 1,
     "metadata": {},
     "output_type": "execute_result"
    }
   ],
   "source": [
    "1+1"
   ]
  },
  {
   "cell_type": "code",
   "execution_count": 2,
   "metadata": {
    "colab": {
     "base_uri": "https://localhost:8080/"
    },
    "executionInfo": {
     "elapsed": 5,
     "status": "ok",
     "timestamp": 1660315627445,
     "user": {
      "displayName": "이소연",
      "userId": "04702084906467308324"
     },
     "user_tz": -540
    },
    "id": "ANdrDUM4hdDx",
    "outputId": "94c3e5ed-7029-422e-e406-887b783013db"
   },
   "outputs": [
    {
     "data": {
      "text/plain": [
       "1.25"
      ]
     },
     "execution_count": 2,
     "metadata": {},
     "output_type": "execute_result"
    }
   ],
   "source": [
    "3/2.4"
   ]
  },
  {
   "cell_type": "code",
   "execution_count": 3,
   "metadata": {
    "colab": {
     "base_uri": "https://localhost:8080/"
    },
    "executionInfo": {
     "elapsed": 4,
     "status": "ok",
     "timestamp": 1660315649637,
     "user": {
      "displayName": "이소연",
      "userId": "04702084906467308324"
     },
     "user_tz": -540
    },
    "id": "WYLqd25rhe0S",
    "outputId": "d5eddab7-e4ca-4da5-eca1-57223af57c63"
   },
   "outputs": [
    {
     "data": {
      "text/plain": [
       "3"
      ]
     },
     "execution_count": 3,
     "metadata": {},
     "output_type": "execute_result"
    }
   ],
   "source": [
    "a=1\n",
    "b=2\n",
    "a+b"
   ]
  },
  {
   "cell_type": "code",
   "execution_count": 4,
   "metadata": {
    "colab": {
     "base_uri": "https://localhost:8080/",
     "height": 35
    },
    "executionInfo": {
     "elapsed": 8,
     "status": "ok",
     "timestamp": 1660315658578,
     "user": {
      "displayName": "이소연",
      "userId": "04702084906467308324"
     },
     "user_tz": -540
    },
    "id": "DHQBpczzhkMz",
    "outputId": "ae95747a-a50d-4537-c6b3-2440feeb498b"
   },
   "outputs": [
    {
     "data": {
      "text/plain": [
       "'python'"
      ]
     },
     "execution_count": 4,
     "metadata": {},
     "output_type": "execute_result"
    }
   ],
   "source": [
    "a=\"python\"\n",
    "a"
   ]
  },
  {
   "cell_type": "code",
   "execution_count": 5,
   "metadata": {
    "colab": {
     "base_uri": "https://localhost:8080/"
    },
    "executionInfo": {
     "elapsed": 7,
     "status": "ok",
     "timestamp": 1660315708953,
     "user": {
      "displayName": "이소연",
      "userId": "04702084906467308324"
     },
     "user_tz": -540
    },
    "id": "mkJu7WIohmRB",
    "outputId": "9fd4d100-96b1-4507-8855-6dc420fc1e1a"
   },
   "outputs": [
    {
     "name": "stdout",
     "output_type": "stream",
     "text": [
      "a is greater than 1\n"
     ]
    }
   ],
   "source": [
    "a=3\n",
    "if a>1 :\n",
    "  print (\"a is greater than 1\")"
   ]
  },
  {
   "cell_type": "code",
   "execution_count": 6,
   "metadata": {
    "colab": {
     "base_uri": "https://localhost:8080/"
    },
    "executionInfo": {
     "elapsed": 5,
     "status": "ok",
     "timestamp": 1660315725933,
     "user": {
      "displayName": "이소연",
      "userId": "04702084906467308324"
     },
     "user_tz": -540
    },
    "id": "bpFzOGO4hwPh",
    "outputId": "fa21f349-f5ba-4b29-bd3f-ca0586a3fee1"
   },
   "outputs": [
    {
     "name": "stdout",
     "output_type": "stream",
     "text": [
      "1\n",
      "2\n",
      "3\n"
     ]
    }
   ],
   "source": [
    "for a in [1,2,3] :\n",
    "  print(a)"
   ]
  },
  {
   "cell_type": "code",
   "execution_count": 7,
   "metadata": {
    "colab": {
     "base_uri": "https://localhost:8080/"
    },
    "executionInfo": {
     "elapsed": 4,
     "status": "ok",
     "timestamp": 1660315780409,
     "user": {
      "displayName": "이소연",
      "userId": "04702084906467308324"
     },
     "user_tz": -540
    },
    "id": "V1N6bfpBh200",
    "outputId": "b4a5c7cd-9078-4382-b63f-c03770b3457c"
   },
   "outputs": [
    {
     "name": "stdout",
     "output_type": "stream",
     "text": [
      "1\n",
      "2\n",
      "3\n"
     ]
    }
   ],
   "source": [
    "i = 0\n",
    "while i < 3 :\n",
    "  i = i+1\n",
    "  print(i)"
   ]
  },
  {
   "cell_type": "code",
   "execution_count": 8,
   "metadata": {
    "colab": {
     "base_uri": "https://localhost:8080/"
    },
    "executionInfo": {
     "elapsed": 364,
     "status": "ok",
     "timestamp": 1660315819785,
     "user": {
      "displayName": "이소연",
      "userId": "04702084906467308324"
     },
     "user_tz": -540
    },
    "id": "wb44gEBjiEEs",
    "outputId": "ebe938ba-7f71-4167-9c85-0713199afae1"
   },
   "outputs": [
    {
     "data": {
      "text/plain": [
       "7"
      ]
     },
     "execution_count": 8,
     "metadata": {},
     "output_type": "execute_result"
    }
   ],
   "source": [
    "def add(a, b):\n",
    "  return a+b\n",
    "  \n",
    "add(3,4)"
   ]
  },
  {
   "cell_type": "code",
   "execution_count": 9,
   "metadata": {
    "colab": {
     "base_uri": "https://localhost:8080/"
    },
    "executionInfo": {
     "elapsed": 4,
     "status": "ok",
     "timestamp": 1660315884115,
     "user": {
      "displayName": "이소연",
      "userId": "04702084906467308324"
     },
     "user_tz": -540
    },
    "id": "JNXXnmUDiYGu",
    "outputId": "2b62d716-36f1-4bec-ec9c-096c6a9a6237"
   },
   "outputs": [
    {
     "name": "stdout",
     "output_type": "stream",
     "text": [
      "hello world\n"
     ]
    }
   ],
   "source": [
    "print(\"hello world\")"
   ]
  },
  {
   "cell_type": "markdown",
   "metadata": {
    "id": "ONIGXb5eidfF"
   },
   "source": [
    "# 2장 자료형\n",
    "- 숫자형\n",
    "- 문자열\n",
    "- 리스트\n",
    "- 튜플\n",
    "- 딕셔너리\n",
    "- 집합\n",
    "- 불\n",
    "- 변수 : 자료형의 값을 저장하는 공간"
   ]
  },
  {
   "cell_type": "markdown",
   "metadata": {
    "id": "OdYjahyzjGKf"
   },
   "source": [
    "### 1. 숫자형"
   ]
  },
  {
   "cell_type": "code",
   "execution_count": 10,
   "metadata": {
    "executionInfo": {
     "elapsed": 3,
     "status": "ok",
     "timestamp": 1660316212829,
     "user": {
      "displayName": "이소연",
      "userId": "04702084906467308324"
     },
     "user_tz": -540
    },
    "id": "_pDrEBQ1jjfq"
   },
   "outputs": [],
   "source": [
    "# 정수형\n",
    "a = 123\n",
    "# 실수형\n",
    "b = 1.23"
   ]
  },
  {
   "cell_type": "code",
   "execution_count": 11,
   "metadata": {
    "executionInfo": {
     "elapsed": 3,
     "status": "ok",
     "timestamp": 1660316316042,
     "user": {
      "displayName": "이소연",
      "userId": "04702084906467308324"
     },
     "user_tz": -540
    },
    "id": "laizyCtIjtop"
   },
   "outputs": [],
   "source": [
    "# 컴퓨터식 지수 표현 방식\n",
    "c = 4.24E10                    # 4.24*10^10\n",
    "d = 4.24E-10                   # 4.24*10^-10"
   ]
  },
  {
   "cell_type": "code",
   "execution_count": 12,
   "metadata": {
    "executionInfo": {
     "elapsed": 336,
     "status": "ok",
     "timestamp": 1660316453956,
     "user": {
      "displayName": "이소연",
      "userId": "04702084906467308324"
     },
     "user_tz": -540
    },
    "id": "M5POAvIbkG0m"
   },
   "outputs": [],
   "source": [
    "# 8진수 : 숫자 0 알파벳 o(대소문자 상관 없음)\n",
    "# 16진수 : 숫자 0 알파벳 x (근데 뒤에 8ff 처럼 알지 못하는 형식이 붙어..)"
   ]
  },
  {
   "cell_type": "code",
   "execution_count": 13,
   "metadata": {
    "colab": {
     "base_uri": "https://localhost:8080/"
    },
    "executionInfo": {
     "elapsed": 502,
     "status": "ok",
     "timestamp": 1660316511501,
     "user": {
      "displayName": "이소연",
      "userId": "04702084906467308324"
     },
     "user_tz": -540
    },
    "id": "tdB5czt4kXCt",
    "outputId": "386e0472-dc5c-434a-98d2-c239d54a7982"
   },
   "outputs": [],
   "source": [
    "# 사칙연산\n",
    "# +, -, *, / 은 그대로"
   ]
  },
  {
   "cell_type": "code",
   "execution_count": 14,
   "metadata": {},
   "outputs": [
    {
     "data": {
      "text/plain": [
       "81"
      ]
     },
     "execution_count": 14,
     "metadata": {},
     "output_type": "execute_result"
    }
   ],
   "source": [
    "# 제곱 **\n",
    "e = 3\n",
    "f = 4\n",
    "e ** f"
   ]
  },
  {
   "cell_type": "code",
   "execution_count": 15,
   "metadata": {
    "colab": {
     "base_uri": "https://localhost:8080/"
    },
    "executionInfo": {
     "elapsed": 4,
     "status": "ok",
     "timestamp": 1660316536220,
     "user": {
      "displayName": "이소연",
      "userId": "04702084906467308324"
     },
     "user_tz": -540
    },
    "id": "gIxjfq0Jk2iX",
    "outputId": "bc3f87f5-b09f-4545-b718-ba0eb2858de1"
   },
   "outputs": [
    {
     "data": {
      "text/plain": [
       "1"
      ]
     },
     "execution_count": 15,
     "metadata": {},
     "output_type": "execute_result"
    }
   ],
   "source": [
    "# 나머지 %\n",
    "7 % 3"
   ]
  },
  {
   "cell_type": "code",
   "execution_count": 16,
   "metadata": {
    "colab": {
     "base_uri": "https://localhost:8080/"
    },
    "executionInfo": {
     "elapsed": 6,
     "status": "ok",
     "timestamp": 1660317072162,
     "user": {
      "displayName": "이소연",
      "userId": "04702084906467308324"
     },
     "user_tz": -540
    },
    "id": "b_ySOZtQk8g_",
    "outputId": "9d9ba53d-170d-443a-e623-0822dfa5f3a7"
   },
   "outputs": [
    {
     "data": {
      "text/plain": [
       "2"
      ]
     },
     "execution_count": 16,
     "metadata": {},
     "output_type": "execute_result"
    }
   ],
   "source": [
    "# 몫 //\n",
    "7//3"
   ]
  },
  {
   "cell_type": "markdown",
   "metadata": {
    "id": "rlNXUYyLm_hR"
   },
   "source": [
    "### 2. 문자열 (총 4가지 = 2*2)\n",
    "- 큰 / 작은 : 서로의 안에 넣어줄 때 사용\n",
    "- 따옴표 1개 / 3개 : 문자열 내 줄바꿈 유무"
   ]
  },
  {
   "cell_type": "markdown",
   "metadata": {
    "id": "3ppYDekon9dQ"
   },
   "source": [
    "Q. 왜 4가지나 되나?\n",
    "- 문자열 안에 따옴표가 들어가야 할 때 섞어서 사용하기 위해\n",
    "- 줄바꿈도 가능하게 하기 위해"
   ]
  },
  {
   "cell_type": "code",
   "execution_count": 17,
   "metadata": {
    "colab": {
     "base_uri": "https://localhost:8080/"
    },
    "executionInfo": {
     "elapsed": 4,
     "status": "ok",
     "timestamp": 1660317326170,
     "user": {
      "displayName": "이소연",
      "userId": "04702084906467308324"
     },
     "user_tz": -540
    },
    "id": "nLllHRVanGfc",
    "outputId": "7a464ebd-fc20-452c-a726-f759638bfcea"
   },
   "outputs": [
    {
     "data": {
      "text/plain": [
       "('hello world',\n",
       " 'hello world',\n",
       " 'Life is too short, You need python',\n",
       " 'Life is too short, You need python')"
      ]
     },
     "execution_count": 17,
     "metadata": {},
     "output_type": "execute_result"
    }
   ],
   "source": [
    "g = \"hello world\"\n",
    "h = 'hello world'\n",
    "i = \"\"\"Life is too short, You need python\"\"\"\n",
    "k = '''Life is too short, You need python'''\n",
    "g, h, i, k"
   ]
  },
  {
   "cell_type": "code",
   "execution_count": 18,
   "metadata": {
    "colab": {
     "base_uri": "https://localhost:8080/",
     "height": 35
    },
    "executionInfo": {
     "elapsed": 9,
     "status": "ok",
     "timestamp": 1660317395734,
     "user": {
      "displayName": "이소연",
      "userId": "04702084906467308324"
     },
     "user_tz": -540
    },
    "id": "MZFzzUzCnpeI",
    "outputId": "ca8f2393-eb3a-4d03-a154-0aa3bb5a654f"
   },
   "outputs": [
    {
     "data": {
      "text/plain": [
       "\"Python's favorite food is perl\""
      ]
     },
     "execution_count": 18,
     "metadata": {},
     "output_type": "execute_result"
    }
   ],
   "source": [
    "# 문자열 안에 작은 따옴표가 사용될 때 -> 큰 따옴표로 문자열 표현\n",
    "food = \"Python's favorite food is perl\"\n",
    "food"
   ]
  },
  {
   "cell_type": "code",
   "execution_count": 19,
   "metadata": {
    "executionInfo": {
     "elapsed": 5,
     "status": "ok",
     "timestamp": 1660317841985,
     "user": {
      "displayName": "이소연",
      "userId": "04702084906467308324"
     },
     "user_tz": -540
    },
    "id": "1idEWrftoOiC"
   },
   "outputs": [],
   "source": [
    "# 만약 작은 따옴표를 사용한다면 열고 닫는 따옴표 갯수가 맞지 않아 syntax 에러가 나"
   ]
  },
  {
   "cell_type": "code",
   "execution_count": 20,
   "metadata": {
    "executionInfo": {
     "elapsed": 4,
     "status": "ok",
     "timestamp": 1660317870004,
     "user": {
      "displayName": "이소연",
      "userId": "04702084906467308324"
     },
     "user_tz": -540
    },
    "id": "Ysb6Ndrqp7V3"
   },
   "outputs": [],
   "source": [
    "# 같은 방식으로 큰 따옴표 사용하고 싶으면 -> 작은 따옴표로 문자열 표현"
   ]
  },
  {
   "cell_type": "markdown",
   "metadata": {
    "id": "nhtl1QT1q-jF"
   },
   "source": [
    "- 문자열 안에 따옴표 넣는 또 다른 방법 : 백슬래시(\\) 이용\n",
    "- 백슬래시 덕분에 문자 그 자체가 됨"
   ]
  },
  {
   "cell_type": "code",
   "execution_count": 28,
   "metadata": {
    "colab": {
     "base_uri": "https://localhost:8080/",
     "height": 35
    },
    "executionInfo": {
     "elapsed": 9,
     "status": "ok",
     "timestamp": 1660317901526,
     "user": {
      "displayName": "이소연",
      "userId": "04702084906467308324"
     },
     "user_tz": -540
    },
    "id": "SIru_n7fqCO3",
    "outputId": "802748fa-47a7-4bd7-de5b-4ccdeabec44d"
   },
   "outputs": [
    {
     "data": {
      "application/vnd.google.colaboratory.intrinsic+json": {
       "type": "string"
      },
      "text/plain": [
       "\"python's favorite food is perl\""
      ]
     },
     "execution_count": 28,
     "metadata": {},
     "output_type": "execute_result"
    }
   ],
   "source": [
    "\n",
    "# 백슬래시\n",
    "food ='python\\'s favorite food is perl'\n",
    "food"
   ]
  },
  {
   "cell_type": "markdown",
   "metadata": {
    "id": "iAeI6p-eqJ6F"
   },
   "source": [
    "ㅇ 여러 줄인 문자열을 변수에 대입하고 싶을 때\n",
    "- 줄을 바꾸는 이스케이프 코드 '\\n' 삽입하기\n",
    "- \n"
   ]
  },
  {
   "cell_type": "markdown",
   "metadata": {
    "id": "NP319kz-qgXZ"
   },
   "source": [
    "ㅇ 정리하면 따옴표를 이용한 문자열은\n",
    "- 문자열 내 따옴표 사용을 위해 큰/작은 둘 다 가능 \n",
    "- 줄바꿈을 위해 3개 가능 (원래 1개)\n",
    "\n",
    "ㅇ 여기에 백슬래시를 이용한 방법도 각각 가능\n",
    "- 문자열 내 따옴표 사용은 그 따옴표 앞에 \\\n",
    "- 줄바꿈은 원하는 곳에 \\n 삽입\n",
    "\n",
    "cf. 책의 흐름이 이렇게 됐으면 깔끔했을텐데... 너무 물 흐르듯 을 중요시 여겼나? 구조화는 부족하네\n"
   ]
  },
  {
   "cell_type": "code",
   "execution_count": null,
   "metadata": {},
   "outputs": [],
   "source": []
  },
  {
   "cell_type": "code",
   "execution_count": null,
   "metadata": {},
   "outputs": [],
   "source": []
  },
  {
   "cell_type": "code",
   "execution_count": null,
   "metadata": {},
   "outputs": [],
   "source": []
  },
  {
   "cell_type": "code",
   "execution_count": null,
   "metadata": {},
   "outputs": [],
   "source": []
  },
  {
   "cell_type": "code",
   "execution_count": null,
   "metadata": {},
   "outputs": [],
   "source": []
  }
 ],
 "metadata": {
  "colab": {
   "authorship_tag": "ABX9TyOzXY4tLFRYWMkzGCpKM64P",
   "collapsed_sections": [],
   "name": "점프 투 파이썬.ipynb",
   "provenance": []
  },
  "kernelspec": {
   "display_name": "Python 3",
   "language": "python",
   "name": "python3"
  },
  "language_info": {
   "codemirror_mode": {
    "name": "ipython",
    "version": 3
   },
   "file_extension": ".py",
   "mimetype": "text/x-python",
   "name": "python",
   "nbconvert_exporter": "python",
   "pygments_lexer": "ipython3",
   "version": "3.8.5"
  }
 },
 "nbformat": 4,
 "nbformat_minor": 1
}
