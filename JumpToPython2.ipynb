{
 "cells": [
  {
   "cell_type": "markdown",
   "metadata": {},
   "source": [
    "# 마크다운 작성법\n",
    "- 날짜 : 제목3, 마젠타\n",
    "###  <font color=magenta>8월 일</font>\n",
    "- 절 : 제목1\n",
    "- 세부타이틀 : 제목2 예)인덱싱\n",
    "- 서브내용타이틀 : 제목3 예)이스케이프 코드\n",
    "- 질문 : 제목2, 질문에 Q 답에는 A, 아직 답 못찾은 애는 ㅇㅇㅇㅇㅇ로 미완 표기\n",
    "## <font color=green> Q. 질문 </font> "
   ]
  },
  {
   "cell_type": "markdown",
   "metadata": {
    "id": "ONIGXb5eidfF"
   },
   "source": [
    "# 2장 자료형\n",
    "- 숫자형\n",
    "- 문자열\n",
    "- 리스트\n",
    "- 튜플\n",
    "- 딕셔너리\n",
    "- 집합\n",
    "- 불\n",
    "- 변수 : 자료형의 값을 저장하는 공간"
   ]
  },
  {
   "cell_type": "markdown",
   "metadata": {
    "id": "OdYjahyzjGKf"
   },
   "source": [
    "# 1. 숫자형"
   ]
  },
  {
   "cell_type": "code",
   "execution_count": 1,
   "metadata": {
    "executionInfo": {
     "elapsed": 3,
     "status": "ok",
     "timestamp": 1660316212829,
     "user": {
      "displayName": "이소연",
      "userId": "04702084906467308324"
     },
     "user_tz": -540
    },
    "id": "_pDrEBQ1jjfq"
   },
   "outputs": [],
   "source": [
    "# 정수형\n",
    "a = 123\n",
    "# 실수형\n",
    "b = 1.23"
   ]
  },
  {
   "cell_type": "code",
   "execution_count": 2,
   "metadata": {
    "executionInfo": {
     "elapsed": 3,
     "status": "ok",
     "timestamp": 1660316316042,
     "user": {
      "displayName": "이소연",
      "userId": "04702084906467308324"
     },
     "user_tz": -540
    },
    "id": "laizyCtIjtop"
   },
   "outputs": [],
   "source": [
    "# 컴퓨터식 지수 표현 방식\n",
    "c = 4.24E10                    # 4.24*10^10\n",
    "d = 4.24E-10                   # 4.24*10^-10"
   ]
  },
  {
   "cell_type": "code",
   "execution_count": 3,
   "metadata": {
    "executionInfo": {
     "elapsed": 336,
     "status": "ok",
     "timestamp": 1660316453956,
     "user": {
      "displayName": "이소연",
      "userId": "04702084906467308324"
     },
     "user_tz": -540
    },
    "id": "M5POAvIbkG0m"
   },
   "outputs": [],
   "source": [
    "# 8진수 : 숫자 0 알파벳 o(대소문자 상관 없음)\n",
    "# 16진수 : 숫자 0 알파벳 x (근데 뒤에 8ff 처럼 알지 못하는 형식이 붙어..)"
   ]
  },
  {
   "cell_type": "code",
   "execution_count": 4,
   "metadata": {
    "colab": {
     "base_uri": "https://localhost:8080/"
    },
    "executionInfo": {
     "elapsed": 502,
     "status": "ok",
     "timestamp": 1660316511501,
     "user": {
      "displayName": "이소연",
      "userId": "04702084906467308324"
     },
     "user_tz": -540
    },
    "id": "tdB5czt4kXCt",
    "outputId": "386e0472-dc5c-434a-98d2-c239d54a7982"
   },
   "outputs": [],
   "source": [
    "# 사칙연산\n",
    "# +, -, *, / 은 그대로"
   ]
  },
  {
   "cell_type": "code",
   "execution_count": 5,
   "metadata": {},
   "outputs": [
    {
     "data": {
      "text/plain": [
       "81"
      ]
     },
     "execution_count": 5,
     "metadata": {},
     "output_type": "execute_result"
    }
   ],
   "source": [
    "# 제곱 **\n",
    "e = 3\n",
    "f = 4\n",
    "e ** f"
   ]
  },
  {
   "cell_type": "code",
   "execution_count": 6,
   "metadata": {
    "colab": {
     "base_uri": "https://localhost:8080/"
    },
    "executionInfo": {
     "elapsed": 4,
     "status": "ok",
     "timestamp": 1660316536220,
     "user": {
      "displayName": "이소연",
      "userId": "04702084906467308324"
     },
     "user_tz": -540
    },
    "id": "gIxjfq0Jk2iX",
    "outputId": "bc3f87f5-b09f-4545-b718-ba0eb2858de1"
   },
   "outputs": [
    {
     "data": {
      "text/plain": [
       "1"
      ]
     },
     "execution_count": 6,
     "metadata": {},
     "output_type": "execute_result"
    }
   ],
   "source": [
    "# 나머지 %\n",
    "7 % 3"
   ]
  },
  {
   "cell_type": "code",
   "execution_count": 7,
   "metadata": {
    "colab": {
     "base_uri": "https://localhost:8080/"
    },
    "executionInfo": {
     "elapsed": 6,
     "status": "ok",
     "timestamp": 1660317072162,
     "user": {
      "displayName": "이소연",
      "userId": "04702084906467308324"
     },
     "user_tz": -540
    },
    "id": "b_ySOZtQk8g_",
    "outputId": "9d9ba53d-170d-443a-e623-0822dfa5f3a7"
   },
   "outputs": [
    {
     "data": {
      "text/plain": [
       "2"
      ]
     },
     "execution_count": 7,
     "metadata": {},
     "output_type": "execute_result"
    }
   ],
   "source": [
    "# 몫 //\n",
    "7//3"
   ]
  },
  {
   "cell_type": "markdown",
   "metadata": {},
   "source": [
    "# 2. 문자열"
   ]
  },
  {
   "cell_type": "markdown",
   "metadata": {
    "id": "rlNXUYyLm_hR"
   },
   "source": [
    "## ㅇ표기법 (총 4가지 = 2*2)\n",
    "- 큰 / 작은 : 문자열 안에 사용하고 싶을 때\n",
    "- 따옴표 1개 / 3개 : 문자열 내 줄바꿈 유무"
   ]
  },
  {
   "cell_type": "code",
   "execution_count": 8,
   "metadata": {
    "colab": {
     "base_uri": "https://localhost:8080/"
    },
    "executionInfo": {
     "elapsed": 4,
     "status": "ok",
     "timestamp": 1660317326170,
     "user": {
      "displayName": "이소연",
      "userId": "04702084906467308324"
     },
     "user_tz": -540
    },
    "id": "nLllHRVanGfc",
    "outputId": "7a464ebd-fc20-452c-a726-f759638bfcea"
   },
   "outputs": [
    {
     "data": {
      "text/plain": [
       "('hello world',\n",
       " 'hello world',\n",
       " 'Life is too short, You need python',\n",
       " 'Life is too short, You need python')"
      ]
     },
     "execution_count": 8,
     "metadata": {},
     "output_type": "execute_result"
    }
   ],
   "source": [
    "g = \"hello world\"\n",
    "h = 'hello world'\n",
    "i = \"\"\"Life is too short, You need python\"\"\"\n",
    "k = '''Life is too short, You need python'''\n",
    "g, h, i, k"
   ]
  },
  {
   "cell_type": "code",
   "execution_count": 9,
   "metadata": {
    "colab": {
     "base_uri": "https://localhost:8080/",
     "height": 35
    },
    "executionInfo": {
     "elapsed": 9,
     "status": "ok",
     "timestamp": 1660317395734,
     "user": {
      "displayName": "이소연",
      "userId": "04702084906467308324"
     },
     "user_tz": -540
    },
    "id": "MZFzzUzCnpeI",
    "outputId": "ca8f2393-eb3a-4d03-a154-0aa3bb5a654f"
   },
   "outputs": [
    {
     "data": {
      "text/plain": [
       "\"Python's favorite food is perl\""
      ]
     },
     "execution_count": 9,
     "metadata": {},
     "output_type": "execute_result"
    }
   ],
   "source": [
    "# 문자열 안에 작은 따옴표가 사용될 때 -> 큰 따옴표로 문자열 표현\n",
    "food = \"Python's favorite food is perl\"\n",
    "food"
   ]
  },
  {
   "cell_type": "code",
   "execution_count": 10,
   "metadata": {
    "executionInfo": {
     "elapsed": 5,
     "status": "ok",
     "timestamp": 1660317841985,
     "user": {
      "displayName": "이소연",
      "userId": "04702084906467308324"
     },
     "user_tz": -540
    },
    "id": "1idEWrftoOiC"
   },
   "outputs": [],
   "source": [
    "# 만약 작은 따옴표를 사용한다면 열고 닫는 따옴표 갯수가 맞지 않아 syntax 에러가 나"
   ]
  },
  {
   "cell_type": "code",
   "execution_count": 11,
   "metadata": {
    "executionInfo": {
     "elapsed": 4,
     "status": "ok",
     "timestamp": 1660317870004,
     "user": {
      "displayName": "이소연",
      "userId": "04702084906467308324"
     },
     "user_tz": -540
    },
    "id": "Ysb6Ndrqp7V3"
   },
   "outputs": [],
   "source": [
    "# 같은 방식으로 큰 따옴표 사용하고 싶으면 -> 작은 따옴표로 문자열 표현"
   ]
  },
  {
   "cell_type": "markdown",
   "metadata": {},
   "source": [
    "###  <font color=magenta>8월 13일</font>"
   ]
  },
  {
   "cell_type": "markdown",
   "metadata": {
    "id": "nhtl1QT1q-jF"
   },
   "source": [
    "### ㅇ 백슬래시\n",
    "- 문자열 안에 따옴표 넣는 또 다른 방법 : 백슬래시(\\) 이용\n",
    "- 백슬래시 덕분에 문자 그 자체가 됨"
   ]
  },
  {
   "cell_type": "code",
   "execution_count": 12,
   "metadata": {
    "colab": {
     "base_uri": "https://localhost:8080/",
     "height": 35
    },
    "executionInfo": {
     "elapsed": 9,
     "status": "ok",
     "timestamp": 1660317901526,
     "user": {
      "displayName": "이소연",
      "userId": "04702084906467308324"
     },
     "user_tz": -540
    },
    "id": "SIru_n7fqCO3",
    "outputId": "802748fa-47a7-4bd7-de5b-4ccdeabec44d"
   },
   "outputs": [
    {
     "data": {
      "text/plain": [
       "\"python's favorite food is perl\""
      ]
     },
     "execution_count": 12,
     "metadata": {},
     "output_type": "execute_result"
    }
   ],
   "source": [
    "food ='python\\'s favorite food is perl'\n",
    "food"
   ]
  },
  {
   "cell_type": "markdown",
   "metadata": {
    "id": "iAeI6p-eqJ6F"
   },
   "source": [
    "### ㅇ 문자열 내 줄바꿈\n",
    "- 줄을 바꾸는 이스케이프 코드 '\\n' 삽입하기\n",
    "- 따옴표 3개 사용\n"
   ]
  },
  {
   "cell_type": "code",
   "execution_count": 13,
   "metadata": {},
   "outputs": [
    {
     "name": "stdout",
     "output_type": "stream",
     "text": [
      "Life is too short\n",
      "You need python\n"
     ]
    }
   ],
   "source": [
    "# 이스케이프코드\n",
    "multiline = \"Life is too short\\nYou need python\"\n",
    "print(multiline)"
   ]
  },
  {
   "cell_type": "code",
   "execution_count": 14,
   "metadata": {},
   "outputs": [
    {
     "data": {
      "text/plain": [
       "'Life is too short\\nYou need python'"
      ]
     },
     "execution_count": 14,
     "metadata": {},
     "output_type": "execute_result"
    }
   ],
   "source": [
    "# 테스트\n",
    "multiline"
   ]
  },
  {
   "cell_type": "code",
   "execution_count": 15,
   "metadata": {},
   "outputs": [
    {
     "name": "stdout",
     "output_type": "stream",
     "text": [
      "Life is too short\n",
      "You need python\n",
      "Life is too short\n",
      "You need python\n"
     ]
    }
   ],
   "source": [
    "# 연속 3개 따옴표 사용\n",
    "multiline2 = '''Life is too short\n",
    "You need python'''\n",
    "print(multiline2)\n",
    "multiline3 = \"\"\"Life is too short\n",
    "You need python\"\"\"\n",
    "print(multiline3)"
   ]
  },
  {
   "cell_type": "markdown",
   "metadata": {},
   "source": [
    "## <font color=green> Q.print 안 붙이고 그냥 multiline 만 적으면 저 형태 그대로 나옴 </font>\n",
    "## <font color=green> 프린트와 그냥 변수 적는것의 차이는? ㅇㅇㅇㅇㅇ</font> "
   ]
  },
  {
   "cell_type": "markdown",
   "metadata": {
    "id": "NP319kz-qgXZ"
   },
   "source": [
    "ㅇ 정리하면 따옴표를 이용한 문자열은\n",
    "- 문자열 내 따옴표 사용을 위해 큰/작은 둘 다 가능 \n",
    "- 줄바꿈을 위해 3개 가능 (원래 1개)\n",
    "\n",
    "ㅇ 여기에 백슬래시를 이용한 방법도 각각 가능\n",
    "- 문자열 내 따옴표 사용은 그 따옴표 앞에 \\\n",
    "- 줄바꿈은 원하는 곳에 \\n 삽입\n",
    "\n",
    "cf. 책의 흐름이 이렇게 됐으면 깔끔했을텐데... 너무 물 흐르듯 을 중요시 여겼나? 구조화는 부족하네\n"
   ]
  },
  {
   "attachments": {
    "image-2.png": {
     "image/png": "[encoded data removed]"
    }
   },
   "cell_type": "markdown",
   "metadata": {},
   "source": [
    "### ㅇ 이스케이프 코드\n",
    "![image-2.png](attachment:image-2.png)"
   ]
  },
  {
   "cell_type": "markdown",
   "metadata": {},
   "source": [
    "## ㅇ 문자열 연산\n",
    "- 연결 : +\n",
    "- 반복 : *"
   ]
  },
  {
   "cell_type": "code",
   "execution_count": 16,
   "metadata": {},
   "outputs": [
    {
     "data": {
      "text/plain": [
       "'Python is fun!'"
      ]
     },
     "execution_count": 16,
     "metadata": {},
     "output_type": "execute_result"
    }
   ],
   "source": [
    "# 더해서 연결\n",
    "head = 'Python'\n",
    "tail = ' is fun!'\n",
    "head+tail"
   ]
  },
  {
   "cell_type": "code",
   "execution_count": 17,
   "metadata": {},
   "outputs": [
    {
     "data": {
      "text/plain": [
       "'pythonpython'"
      ]
     },
     "execution_count": 17,
     "metadata": {},
     "output_type": "execute_result"
    }
   ],
   "source": [
    "# 곱한 건 반복\n",
    "a = 'python'\n",
    "a*2"
   ]
  },
  {
   "cell_type": "code",
   "execution_count": 18,
   "metadata": {},
   "outputs": [],
   "source": [
    "# 곱하기 - 응용 - 절취선 만들기\n",
    "# 여기서는 cmd 창 이용해서 py 파일 여는 것도 익힘"
   ]
  },
  {
   "cell_type": "markdown",
   "metadata": {},
   "source": [
    "### ㅇ 문자열 길이\n",
    "- len()"
   ]
  },
  {
   "cell_type": "code",
   "execution_count": 19,
   "metadata": {},
   "outputs": [
    {
     "data": {
      "text/plain": [
       "17"
      ]
     },
     "execution_count": 19,
     "metadata": {},
     "output_type": "execute_result"
    }
   ],
   "source": [
    "b = \"Life is too short\"   #빈칸도 셈\n",
    "len(b) "
   ]
  },
  {
   "cell_type": "markdown",
   "metadata": {},
   "source": [
    "## ㅇ 인덱싱 indexing\n",
    "- 변수[인덱스번호]\n",
    "- 0부터 시작\n",
    "- 역으로 세면 음수"
   ]
  },
  {
   "cell_type": "code",
   "execution_count": 20,
   "metadata": {},
   "outputs": [
    {
     "data": {
      "text/plain": [
       "'e'"
      ]
     },
     "execution_count": 20,
     "metadata": {},
     "output_type": "execute_result"
    }
   ],
   "source": [
    "a = \"Life is too short, You need python\"\n",
    "a[3]"
   ]
  },
  {
   "cell_type": "code",
   "execution_count": 21,
   "metadata": {},
   "outputs": [
    {
     "data": {
      "text/plain": [
       "'p'"
      ]
     },
     "execution_count": 21,
     "metadata": {},
     "output_type": "execute_result"
    }
   ],
   "source": [
    "a[-6]"
   ]
  },
  {
   "cell_type": "markdown",
   "metadata": {},
   "source": [
    "## ㅇ 슬라이싱 slicing\n",
    "- 변수[시작이상:끝미만]"
   ]
  },
  {
   "cell_type": "code",
   "execution_count": 22,
   "metadata": {},
   "outputs": [
    {
     "data": {
      "text/plain": [
       "'Life'"
      ]
     },
     "execution_count": 22,
     "metadata": {},
     "output_type": "execute_result"
    }
   ],
   "source": [
    "a[0:4]"
   ]
  },
  {
   "cell_type": "code",
   "execution_count": 23,
   "metadata": {},
   "outputs": [
    {
     "data": {
      "text/plain": [
       "'rt, You need python'"
      ]
     },
     "execution_count": 23,
     "metadata": {},
     "output_type": "execute_result"
    }
   ],
   "source": [
    "a[15:]"
   ]
  },
  {
   "cell_type": "code",
   "execution_count": 24,
   "metadata": {},
   "outputs": [
    {
     "data": {
      "text/plain": [
       "'Life is too short, You need python'"
      ]
     },
     "execution_count": 24,
     "metadata": {},
     "output_type": "execute_result"
    }
   ],
   "source": [
    "a[:]"
   ]
  },
  {
   "cell_type": "code",
   "execution_count": 25,
   "metadata": {},
   "outputs": [
    {
     "data": {
      "text/plain": [
       "'rt, You need'"
      ]
     },
     "execution_count": 25,
     "metadata": {},
     "output_type": "execute_result"
    }
   ],
   "source": [
    "a[15:-7]"
   ]
  },
  {
   "cell_type": "markdown",
   "metadata": {},
   "source": [
    "## <font color=green> Q. 만약 꼬이면 어떻게 될까? </font>\n",
    "## <font color=green> A. 오류 나는 게 아니라 슬라이싱 되는 게 아무것도 없는 것! 길이도 0</font>"
   ]
  },
  {
   "cell_type": "code",
   "execution_count": 26,
   "metadata": {},
   "outputs": [
    {
     "data": {
      "text/plain": [
       "34"
      ]
     },
     "execution_count": 26,
     "metadata": {},
     "output_type": "execute_result"
    }
   ],
   "source": [
    "len(a)"
   ]
  },
  {
   "cell_type": "code",
   "execution_count": 27,
   "metadata": {
    "scrolled": true
   },
   "outputs": [
    {
     "data": {
      "text/plain": [
       "''"
      ]
     },
     "execution_count": 27,
     "metadata": {},
     "output_type": "execute_result"
    }
   ],
   "source": [
    "len(a)\n",
    "a[33:-7]"
   ]
  },
  {
   "cell_type": "code",
   "execution_count": 28,
   "metadata": {
    "scrolled": true
   },
   "outputs": [
    {
     "data": {
      "text/plain": [
       "''"
      ]
     },
     "execution_count": 28,
     "metadata": {},
     "output_type": "execute_result"
    }
   ],
   "source": [
    "a[5:2]"
   ]
  },
  {
   "cell_type": "code",
   "execution_count": 29,
   "metadata": {},
   "outputs": [
    {
     "data": {
      "text/plain": [
       "0"
      ]
     },
     "execution_count": 29,
     "metadata": {},
     "output_type": "execute_result"
    }
   ],
   "source": [
    "len(a[5:2])"
   ]
  },
  {
   "cell_type": "code",
   "execution_count": 30,
   "metadata": {},
   "outputs": [
    {
     "name": "stdout",
     "output_type": "stream",
     "text": [
      "220813\n",
      "Rainy\n"
     ]
    }
   ],
   "source": [
    "# 예제  - 문자열에서 날짜.날씨 나누기\n",
    "a = '220813Rainy'\n",
    "date = a[:6]\n",
    "weather = a[6:]\n",
    "print(date)\n",
    "print(weather)"
   ]
  },
  {
   "cell_type": "code",
   "execution_count": 31,
   "metadata": {},
   "outputs": [
    {
     "name": "stdout",
     "output_type": "stream",
     "text": [
      "pithon\n"
     ]
    },
    {
     "ename": "TypeError",
     "evalue": "'str' object does not support item assignment",
     "output_type": "error",
     "traceback": [
      "\u001b[1;31m---------------------------------------------------------------------------\u001b[0m",
      "\u001b[1;31mTypeError\u001b[0m                                 Traceback (most recent call last)",
      "\u001b[1;32m<ipython-input-31-b7916d7f7096>\u001b[0m in \u001b[0;36m<module>\u001b[1;34m\u001b[0m\n\u001b[0;32m      2\u001b[0m \u001b[0ma\u001b[0m \u001b[1;33m=\u001b[0m \u001b[1;34m'pithon'\u001b[0m\u001b[1;33m\u001b[0m\u001b[1;33m\u001b[0m\u001b[0m\n\u001b[0;32m      3\u001b[0m \u001b[0mprint\u001b[0m\u001b[1;33m(\u001b[0m\u001b[0ma\u001b[0m\u001b[1;33m)\u001b[0m\u001b[1;33m\u001b[0m\u001b[1;33m\u001b[0m\u001b[0m\n\u001b[1;32m----> 4\u001b[1;33m \u001b[0ma\u001b[0m\u001b[1;33m[\u001b[0m\u001b[1;36m1\u001b[0m\u001b[1;33m]\u001b[0m \u001b[1;33m=\u001b[0m \u001b[1;34m'y'\u001b[0m\u001b[1;33m\u001b[0m\u001b[1;33m\u001b[0m\u001b[0m\n\u001b[0m\u001b[0;32m      5\u001b[0m \u001b[0mpirnt\u001b[0m\u001b[1;33m(\u001b[0m\u001b[0ma\u001b[0m\u001b[1;33m)\u001b[0m\u001b[1;33m\u001b[0m\u001b[1;33m\u001b[0m\u001b[0m\n",
      "\u001b[1;31mTypeError\u001b[0m: 'str' object does not support item assignment"
     ]
    }
   ],
   "source": [
    "# 인덱싱 이용해서 오타 바꾸기 시도\n",
    "a = 'pithon'\n",
    "print(a)\n",
    "a[1] = 'y'\n",
    "pirnt(a)"
   ]
  },
  {
   "cell_type": "markdown",
   "metadata": {},
   "source": [
    "- 문자열의 요솟값은 바꿀 수 있는 값이 아니기 때문에 (immutable한 자료형) 요솟값 변경 불가능\n",
    "- 이 방법 이용하려면 슬라이싱 사용해서 쪼개주고 -> 수정된 문자와 함께 다시 연결"
   ]
  },
  {
   "cell_type": "code",
   "execution_count": null,
   "metadata": {},
   "outputs": [],
   "source": [
    "a[:1]+'y'+a[2:]"
   ]
  },
  {
   "cell_type": "markdown",
   "metadata": {},
   "source": [
    "=> 그렇다면 문자열의 요솟값 자유자재로 바꾸려면?    포매팅!!"
   ]
  },
  {
   "cell_type": "markdown",
   "metadata": {},
   "source": [
    "###  <font color=magenta>8월 14일</font>"
   ]
  },
  {
   "cell_type": "markdown",
   "metadata": {},
   "source": [
    "## ㅇ 문자열 포매팅\n",
    "- 숫자 바로 대입 : %숫자\n",
    "- 문자열 바로 대입 : %문자\n",
    "- 숫자 값을 나타내는 변수로 대입 : "
   ]
  },
  {
   "cell_type": "code",
   "execution_count": null,
   "metadata": {},
   "outputs": [],
   "source": []
  },
  {
   "cell_type": "code",
   "execution_count": null,
   "metadata": {},
   "outputs": [],
   "source": []
  },
  {
   "cell_type": "code",
   "execution_count": null,
   "metadata": {},
   "outputs": [],
   "source": []
  },
  {
   "cell_type": "code",
   "execution_count": null,
   "metadata": {},
   "outputs": [],
   "source": []
  },
  {
   "cell_type": "code",
   "execution_count": null,
   "metadata": {},
   "outputs": [],
   "source": []
  },
  {
   "cell_type": "code",
   "execution_count": null,
   "metadata": {},
   "outputs": [],
   "source": []
  },
  {
   "cell_type": "code",
   "execution_count": null,
   "metadata": {},
   "outputs": [],
   "source": []
  },
  {
   "cell_type": "code",
   "execution_count": null,
   "metadata": {},
   "outputs": [],
   "source": []
  },
  {
   "cell_type": "code",
   "execution_count": null,
   "metadata": {},
   "outputs": [],
   "source": []
  },
  {
   "cell_type": "code",
   "execution_count": null,
   "metadata": {},
   "outputs": [],
   "source": []
  }
 ],
 "metadata": {
  "colab": {
   "authorship_tag": "ABX9TyOzXY4tLFRYWMkzGCpKM64P",
   "collapsed_sections": [],
   "name": "점프 투 파이썬.ipynb",
   "provenance": []
  },
  "kernelspec": {
   "display_name": "Python 3",
   "language": "python",
   "name": "python3"
  }
 },
 "nbformat": 4,
 "nbformat_minor": 1
}
