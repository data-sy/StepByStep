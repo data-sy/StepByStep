{
 "cells": [
  {
   "cell_type": "markdown",
   "metadata": {},
   "source": [
    "p.129 코딩 실습7"
   ]
  },
  {
   "cell_type": "code",
   "execution_count": 1,
   "metadata": {},
   "outputs": [
    {
     "name": "stdout",
     "output_type": "stream",
     "text": [
      "몇 학년인가요? (1~6) 3\n",
      "햄버거를 드세요.\n"
     ]
    }
   ],
   "source": [
    "year = int(input(\"몇 학년인가요? (1~6) \"))\n",
    "if year >=2 and year <=4 :\n",
    "    print(\"햄버거를 드세요.\")\n",
    "else :\n",
    "    print(\"김밥을 드세요\")"
   ]
  },
  {
   "cell_type": "code",
   "execution_count": 2,
   "metadata": {},
   "outputs": [
    {
     "name": "stdout",
     "output_type": "stream",
     "text": [
      "몇 학년인가요? (1~6) 1\n",
      "김밥을 드세요\n"
     ]
    }
   ],
   "source": [
    "year = int(input(\"몇 학년인가요? (1~6) \"))\n",
    "if year >=2 and year <=4 :\n",
    "    print(\"햄버거를 드세요.\")\n",
    "else :\n",
    "    print(\"김밥을 드세요\")"
   ]
  },
  {
   "cell_type": "markdown",
   "metadata": {},
   "source": [
    "**<font color=blue> 실험 ) 부등식 한 번에 쓸 수 있나? </font>**"
   ]
  },
  {
   "cell_type": "code",
   "execution_count": 3,
   "metadata": {},
   "outputs": [
    {
     "name": "stdout",
     "output_type": "stream",
     "text": [
      "몇 학년인가요? (1~6) 54\n",
      "김밥을 드세요\n"
     ]
    }
   ],
   "source": [
    "year = int(input(\"몇 학년인가요? (1~6) \"))\n",
    "if 2 <= year <=4 :\n",
    "    print(\"햄버거를 드세요.\")\n",
    "else :\n",
    "    print(\"김밥을 드세요\")"
   ]
  },
  {
   "cell_type": "markdown",
   "metadata": {},
   "source": [
    "**<font color=blue> 답) 가능하다 </font>**"
   ]
  },
  {
   "cell_type": "markdown",
   "metadata": {},
   "source": [
    "p.134 코딩 실습 8"
   ]
  },
  {
   "cell_type": "code",
   "execution_count": 4,
   "metadata": {
    "scrolled": true
   },
   "outputs": [
    {
     "name": "stdout",
     "output_type": "stream",
     "text": [
      "피자 가게 열렸나요? (예/아니오)예\n",
      "치킨 가게 열렸나요? (예/아니오)예\n",
      "피자 먹자\n"
     ]
    }
   ],
   "source": [
    "pizza = input(\"피자 가게 열렸나요? (예/아니오)\")\n",
    "chicken = input(\"치킨 가게 열렸나요? (예/아니오)\")\n",
    "\n",
    "if pizza =='예':\n",
    "    print(\"피자 먹자\")\n",
    "elif chicken == '예' :\n",
    "    print(\"치킨 먹자\")\n",
    "else :\n",
    "    print(\"편의점에서 컵라면 ㄱㄱ\")"
   ]
  },
  {
   "cell_type": "markdown",
   "metadata": {},
   "source": [
    "p.141 코딩 실습 9"
   ]
  },
  {
   "cell_type": "code",
   "execution_count": 5,
   "metadata": {},
   "outputs": [
    {
     "name": "stdout",
     "output_type": "stream",
     "text": [
      "식권 몇 장 필요해?4\n",
      "[식권] 번호 :  1\n",
      "[식권] 번호 :  2\n",
      "[식권] 번호 :  3\n",
      "[식권] 번호 :  4\n"
     ]
    }
   ],
   "source": [
    "식권 = int(input(\"식권 몇 장 필요해?\"))\n",
    "\n",
    "for 출력식권 in range(1, 식권+1):\n",
    "    print('[식권] 번호 : ', 출력식권)"
   ]
  },
  {
   "cell_type": "markdown",
   "metadata": {},
   "source": [
    "p.142 반복문 속 반복문 구구단"
   ]
  },
  {
   "cell_type": "code",
   "execution_count": 7,
   "metadata": {},
   "outputs": [
    {
     "name": "stdout",
     "output_type": "stream",
     "text": [
      "2x1=2\n",
      "2x2=4\n",
      "2x3=6\n",
      "2x4=8\n",
      "2x5=10\n",
      "2x6=12\n",
      "2x7=14\n",
      "2x8=16\n",
      "2x9=18\n",
      "3x1=3\n",
      "3x2=6\n",
      "3x3=9\n",
      "3x4=12\n",
      "3x5=15\n",
      "3x6=18\n",
      "3x7=21\n",
      "3x8=24\n",
      "3x9=27\n",
      "4x1=4\n",
      "4x2=8\n",
      "4x3=12\n",
      "4x4=16\n",
      "4x5=20\n",
      "4x6=24\n",
      "4x7=28\n",
      "4x8=32\n",
      "4x9=36\n",
      "5x1=5\n",
      "5x2=10\n",
      "5x3=15\n",
      "5x4=20\n",
      "5x5=25\n",
      "5x6=30\n",
      "5x7=35\n",
      "5x8=40\n",
      "5x9=45\n",
      "6x1=6\n",
      "6x2=12\n",
      "6x3=18\n",
      "6x4=24\n",
      "6x5=30\n",
      "6x6=36\n",
      "6x7=42\n",
      "6x8=48\n",
      "6x9=54\n",
      "7x1=7\n",
      "7x2=14\n",
      "7x3=21\n",
      "7x4=28\n",
      "7x5=35\n",
      "7x6=42\n",
      "7x7=49\n",
      "7x8=56\n",
      "7x9=63\n",
      "8x1=8\n",
      "8x2=16\n",
      "8x3=24\n",
      "8x4=32\n",
      "8x5=40\n",
      "8x6=48\n",
      "8x7=56\n",
      "8x8=64\n",
      "8x9=72\n",
      "9x1=9\n",
      "9x2=18\n",
      "9x3=27\n",
      "9x4=36\n",
      "9x5=45\n",
      "9x6=54\n",
      "9x7=63\n",
      "9x8=72\n",
      "9x9=81\n",
      "\n"
     ]
    }
   ],
   "source": [
    "출력값 = ''\n",
    "\n",
    "for 앞수 in range(2, 10):\n",
    "    for 뒷수 in range(1, 10):\n",
    "        지금값 = '{}x{}={}\\n'.format(앞수, 뒷수, 앞수*뒷수)\n",
    "        출력값 = 출력값 + 지금값\n",
    "        \n",
    "print(출력값)               # print가 for문 안에 있는 것이 아니라 출력값이라는 변수에 출력할 걸 통채로 담아서 나와"
   ]
  },
  {
   "cell_type": "code",
   "execution_count": null,
   "metadata": {},
   "outputs": [],
   "source": []
  },
  {
   "cell_type": "code",
   "execution_count": null,
   "metadata": {},
   "outputs": [],
   "source": []
  },
  {
   "cell_type": "code",
   "execution_count": null,
   "metadata": {},
   "outputs": [],
   "source": []
  },
  {
   "cell_type": "code",
   "execution_count": null,
   "metadata": {},
   "outputs": [],
   "source": []
  },
  {
   "cell_type": "code",
   "execution_count": null,
   "metadata": {},
   "outputs": [],
   "source": []
  }
 ],
 "metadata": {
  "kernelspec": {
   "display_name": "Python 3",
   "language": "python",
   "name": "python3"
  },
  "language_info": {
   "codemirror_mode": {
    "name": "ipython",
    "version": 3
   },
   "file_extension": ".py",
   "mimetype": "text/x-python",
   "name": "python",
   "nbconvert_exporter": "python",
   "pygments_lexer": "ipython3",
   "version": "3.8.5"
  }
 },
 "nbformat": 4,
 "nbformat_minor": 4
}
