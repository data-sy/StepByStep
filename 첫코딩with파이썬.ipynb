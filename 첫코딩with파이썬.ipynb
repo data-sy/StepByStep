{
 "cells": [
  {
   "cell_type": "markdown",
   "metadata": {},
   "source": [
    "p.129 코딩 실습7"
   ]
  },
  {
   "cell_type": "code",
   "execution_count": 1,
   "metadata": {},
   "outputs": [
    {
     "name": "stdout",
     "output_type": "stream",
     "text": [
      "몇 학년인가요? (1~6) 3\n",
      "햄버거를 드세요.\n"
     ]
    }
   ],
   "source": [
    "year = int(input(\"몇 학년인가요? (1~6) \"))\n",
    "if year >=2 and year <=4 :\n",
    "    print(\"햄버거를 드세요.\")\n",
    "else :\n",
    "    print(\"김밥을 드세요\")"
   ]
  },
  {
   "cell_type": "code",
   "execution_count": 2,
   "metadata": {},
   "outputs": [
    {
     "name": "stdout",
     "output_type": "stream",
     "text": [
      "몇 학년인가요? (1~6) 1\n",
      "김밥을 드세요\n"
     ]
    }
   ],
   "source": [
    "year = int(input(\"몇 학년인가요? (1~6) \"))\n",
    "if year >=2 and year <=4 :\n",
    "    print(\"햄버거를 드세요.\")\n",
    "else :\n",
    "    print(\"김밥을 드세요\")"
   ]
  },
  {
   "cell_type": "markdown",
   "metadata": {},
   "source": [
    "**<font color=blue> 실험 ) 부등식 한 번에 쓸 수 있나? </font>**"
   ]
  },
  {
   "cell_type": "code",
   "execution_count": 3,
   "metadata": {},
   "outputs": [
    {
     "name": "stdout",
     "output_type": "stream",
     "text": [
      "몇 학년인가요? (1~6) 54\n",
      "김밥을 드세요\n"
     ]
    }
   ],
   "source": [
    "year = int(input(\"몇 학년인가요? (1~6) \"))\n",
    "if 2 <= year <=4 :\n",
    "    print(\"햄버거를 드세요.\")\n",
    "else :\n",
    "    print(\"김밥을 드세요\")"
   ]
  },
  {
   "cell_type": "markdown",
   "metadata": {},
   "source": [
    "**<font color=blue> 답) 가능하다 </font>**"
   ]
  },
  {
   "cell_type": "markdown",
   "metadata": {},
   "source": [
    "p.134 코딩 실습 8"
   ]
  },
  {
   "cell_type": "code",
   "execution_count": 4,
   "metadata": {
    "scrolled": true
   },
   "outputs": [
    {
     "name": "stdout",
     "output_type": "stream",
     "text": [
      "피자 가게 열렸나요? (예/아니오)예\n",
      "치킨 가게 열렸나요? (예/아니오)예\n",
      "피자 먹자\n"
     ]
    }
   ],
   "source": [
    "pizza = input(\"피자 가게 열렸나요? (예/아니오)\")\n",
    "chicken = input(\"치킨 가게 열렸나요? (예/아니오)\")\n",
    "\n",
    "if pizza =='예':\n",
    "    print(\"피자 먹자\")\n",
    "elif chicken == '예' :\n",
    "    print(\"치킨 먹자\")\n",
    "else :\n",
    "    print(\"편의점에서 컵라면 ㄱㄱ\")"
   ]
  },
  {
   "cell_type": "markdown",
   "metadata": {},
   "source": [
    "p.141 코딩 실습 9"
   ]
  },
  {
   "cell_type": "code",
   "execution_count": 5,
   "metadata": {},
   "outputs": [
    {
     "name": "stdout",
     "output_type": "stream",
     "text": [
      "식권 몇 장 필요해?4\n",
      "[식권] 번호 :  1\n",
      "[식권] 번호 :  2\n",
      "[식권] 번호 :  3\n",
      "[식권] 번호 :  4\n"
     ]
    }
   ],
   "source": [
    "식권 = int(input(\"식권 몇 장 필요해?\"))\n",
    "\n",
    "for 출력식권 in range(1, 식권+1):\n",
    "    print('[식권] 번호 : ', 출력식권)"
   ]
  },
  {
   "cell_type": "markdown",
   "metadata": {},
   "source": [
    "p.142 반복문 속 반복문 구구단"
   ]
  },
  {
   "cell_type": "code",
   "execution_count": 7,
   "metadata": {
    "collapsed": true
   },
   "outputs": [
    {
     "name": "stdout",
     "output_type": "stream",
     "text": [
      "2x1=2\n",
      "2x2=4\n",
      "2x3=6\n",
      "2x4=8\n",
      "2x5=10\n",
      "2x6=12\n",
      "2x7=14\n",
      "2x8=16\n",
      "2x9=18\n",
      "3x1=3\n",
      "3x2=6\n",
      "3x3=9\n",
      "3x4=12\n",
      "3x5=15\n",
      "3x6=18\n",
      "3x7=21\n",
      "3x8=24\n",
      "3x9=27\n",
      "4x1=4\n",
      "4x2=8\n",
      "4x3=12\n",
      "4x4=16\n",
      "4x5=20\n",
      "4x6=24\n",
      "4x7=28\n",
      "4x8=32\n",
      "4x9=36\n",
      "5x1=5\n",
      "5x2=10\n",
      "5x3=15\n",
      "5x4=20\n",
      "5x5=25\n",
      "5x6=30\n",
      "5x7=35\n",
      "5x8=40\n",
      "5x9=45\n",
      "6x1=6\n",
      "6x2=12\n",
      "6x3=18\n",
      "6x4=24\n",
      "6x5=30\n",
      "6x6=36\n",
      "6x7=42\n",
      "6x8=48\n",
      "6x9=54\n",
      "7x1=7\n",
      "7x2=14\n",
      "7x3=21\n",
      "7x4=28\n",
      "7x5=35\n",
      "7x6=42\n",
      "7x7=49\n",
      "7x8=56\n",
      "7x9=63\n",
      "8x1=8\n",
      "8x2=16\n",
      "8x3=24\n",
      "8x4=32\n",
      "8x5=40\n",
      "8x6=48\n",
      "8x7=56\n",
      "8x8=64\n",
      "8x9=72\n",
      "9x1=9\n",
      "9x2=18\n",
      "9x3=27\n",
      "9x4=36\n",
      "9x5=45\n",
      "9x6=54\n",
      "9x7=63\n",
      "9x8=72\n",
      "9x9=81\n",
      "\n"
     ]
    }
   ],
   "source": [
    "출력값 = ''\n",
    "\n",
    "for 앞수 in range(2, 10):\n",
    "    for 뒷수 in range(1, 10):\n",
    "        지금값 = '{}x{}={}\\n'.format(앞수, 뒷수, 앞수*뒷수)\n",
    "        출력값 = 출력값 + 지금값\n",
    "        \n",
    "print(출력값)               # print가 for문 안에 있는 것이 아니라 출력값이라는 변수에 출력할 걸 통채로 담아서 나와"
   ]
  },
  {
   "cell_type": "markdown",
   "metadata": {},
   "source": [
    "###  <font color=magenta>8월17일</font>"
   ]
  },
  {
   "cell_type": "code",
   "execution_count": 27,
   "metadata": {
    "collapsed": true
   },
   "outputs": [
    {
     "name": "stdout",
     "output_type": "stream",
     "text": [
      "2*1=2\n",
      "2*2=4\n",
      "2*3=6\n",
      "2*4=8\n",
      "2*5=10\n",
      "2*6=12\n",
      "2*7=14\n",
      "2*8=16\n",
      "2*9=18\n",
      "**********\n",
      "3*1=3\n",
      "3*2=6\n",
      "3*3=9\n",
      "3*4=12\n",
      "3*5=15\n",
      "3*6=18\n",
      "3*7=21\n",
      "3*8=24\n",
      "3*9=27\n",
      "**********\n",
      "4*1=4\n",
      "4*2=8\n",
      "4*3=12\n",
      "4*4=16\n",
      "4*5=20\n",
      "4*6=24\n",
      "4*7=28\n",
      "4*8=32\n",
      "4*9=36\n",
      "**********\n",
      "5*1=5\n",
      "5*2=10\n",
      "5*3=15\n",
      "5*4=20\n",
      "5*5=25\n",
      "5*6=30\n",
      "5*7=35\n",
      "5*8=40\n",
      "5*9=45\n",
      "**********\n",
      "6*1=6\n",
      "6*2=12\n",
      "6*3=18\n",
      "6*4=24\n",
      "6*5=30\n",
      "6*6=36\n",
      "6*7=42\n",
      "6*8=48\n",
      "6*9=54\n",
      "**********\n",
      "7*1=7\n",
      "7*2=14\n",
      "7*3=21\n",
      "7*4=28\n",
      "7*5=35\n",
      "7*6=42\n",
      "7*7=49\n",
      "7*8=56\n",
      "7*9=63\n",
      "**********\n",
      "8*1=8\n",
      "8*2=16\n",
      "8*3=24\n",
      "8*4=32\n",
      "8*5=40\n",
      "8*6=48\n",
      "8*7=56\n",
      "8*8=64\n",
      "8*9=72\n",
      "**********\n",
      "9*1=9\n",
      "9*2=18\n",
      "9*3=27\n",
      "9*4=36\n",
      "9*5=45\n",
      "9*6=54\n",
      "9*7=63\n",
      "9*8=72\n",
      "9*9=81\n",
      "**********\n",
      "\n"
     ]
    }
   ],
   "source": [
    "result = ''\n",
    "for i in range(2, 10):\n",
    "    for j in range (1, 10):\n",
    "        pre = '{}*{}={}\\n'.format(i, j, i*j)\n",
    "        result = result + pre\n",
    "    result = result + \"*\"*10 + '\\n'\n",
    "print(result)\n",
    "\n",
    "# 이러면 맨 마지막 줄에도 별표시 줄이 추가 돼"
   ]
  },
  {
   "cell_type": "code",
   "execution_count": 28,
   "metadata": {},
   "outputs": [
    {
     "name": "stdout",
     "output_type": "stream",
     "text": [
      "2*1=2\n",
      "2*2=4\n",
      "2*3=6\n",
      "2*4=8\n",
      "2*5=10\n",
      "2*6=12\n",
      "2*7=14\n",
      "2*8=16\n",
      "2*9=18\n",
      "**********\n",
      "3*1=3\n",
      "3*2=6\n",
      "3*3=9\n",
      "3*4=12\n",
      "3*5=15\n",
      "3*6=18\n",
      "3*7=21\n",
      "3*8=24\n",
      "3*9=27\n",
      "**********\n",
      "4*1=4\n",
      "4*2=8\n",
      "4*3=12\n",
      "4*4=16\n",
      "4*5=20\n",
      "4*6=24\n",
      "4*7=28\n",
      "4*8=32\n",
      "4*9=36\n",
      "**********\n",
      "5*1=5\n",
      "5*2=10\n",
      "5*3=15\n",
      "5*4=20\n",
      "5*5=25\n",
      "5*6=30\n",
      "5*7=35\n",
      "5*8=40\n",
      "5*9=45\n",
      "**********\n",
      "6*1=6\n",
      "6*2=12\n",
      "6*3=18\n",
      "6*4=24\n",
      "6*5=30\n",
      "6*6=36\n",
      "6*7=42\n",
      "6*8=48\n",
      "6*9=54\n",
      "**********\n",
      "7*1=7\n",
      "7*2=14\n",
      "7*3=21\n",
      "7*4=28\n",
      "7*5=35\n",
      "7*6=42\n",
      "7*7=49\n",
      "7*8=56\n",
      "7*9=63\n",
      "**********\n",
      "8*1=8\n",
      "8*2=16\n",
      "8*3=24\n",
      "8*4=32\n",
      "8*5=40\n",
      "8*6=48\n",
      "8*7=56\n",
      "8*8=64\n",
      "8*9=72\n",
      "**********\n",
      "9*1=9\n",
      "9*2=18\n",
      "9*3=27\n",
      "9*4=36\n",
      "9*5=45\n",
      "9*6=54\n",
      "9*7=63\n",
      "9*8=72\n",
      "9*9=81\n",
      "\n"
     ]
    }
   ],
   "source": [
    "# 조건문을 사용해서 맨 마지막 단에는 별 나오지 않게\n",
    "\n",
    "result = ''\n",
    "for i in range(2, 10):\n",
    "    for j in range (1, 10):\n",
    "        pre = '{}*{}={}\\n'.format(i, j, i*j)\n",
    "        result = result + pre\n",
    "    if i == 9 :\n",
    "        pass\n",
    "    else :\n",
    "        result = result + \"*\"*10 + '\\n'\n",
    "        \n",
    "print(result)"
   ]
  },
  {
   "cell_type": "code",
   "execution_count": 29,
   "metadata": {},
   "outputs": [
    {
     "name": "stdout",
     "output_type": "stream",
     "text": [
      "0\n",
      "1\n",
      "3\n"
     ]
    }
   ],
   "source": [
    "# continue\n",
    "\n",
    "for i in range(4):\n",
    "    if i == 2 :\n",
    "        continue\n",
    "    else :\n",
    "        print(i)\n",
    "        \n",
    "# 2는 넘어가고 나머지는 출력"
   ]
  },
  {
   "cell_type": "code",
   "execution_count": 30,
   "metadata": {},
   "outputs": [
    {
     "name": "stdout",
     "output_type": "stream",
     "text": [
      "0\n",
      "1\n"
     ]
    }
   ],
   "source": [
    "# continue\n",
    "\n",
    "for i in range(4):\n",
    "    if i == 2 :\n",
    "        break\n",
    "    else :\n",
    "        print(i)\n",
    "        \n",
    "# 2 나오면 반복문 멈춰"
   ]
  },
  {
   "cell_type": "code",
   "execution_count": null,
   "metadata": {},
   "outputs": [],
   "source": []
  },
  {
   "cell_type": "code",
   "execution_count": 2,
   "metadata": {},
   "outputs": [
    {
     "data": {
      "text/plain": [
       "1"
      ]
     },
     "execution_count": 2,
     "metadata": {},
     "output_type": "execute_result"
    }
   ],
   "source": [
    "# 주석달기\n",
    "a=1\n",
    "a"
   ]
  },
  {
   "cell_type": "code",
   "execution_count": 3,
   "metadata": {},
   "outputs": [
    {
     "data": {
      "text/plain": [
       "'python'"
      ]
     },
     "execution_count": 3,
     "metadata": {},
     "output_type": "execute_result"
    }
   ],
   "source": [
    "'''줄바꿈 주석은\n",
    "작은 따옴표 3개'''\n",
    "b = 'python'\n",
    "b"
   ]
  },
  {
   "cell_type": "code",
   "execution_count": 4,
   "metadata": {},
   "outputs": [
    {
     "name": "stdout",
     "output_type": "stream",
     "text": [
      "있어요\n"
     ]
    }
   ],
   "source": [
    "인사 = '안녕하세요'\n",
    "if '녕' in 인사 :\n",
    "    print('있어요')\n",
    "else : \n",
    "    print('없어요')"
   ]
  },
  {
   "cell_type": "markdown",
   "metadata": {},
   "source": [
    "**<font color=blue> 실험 : 여러 글자도 있다고 할까? </font>**"
   ]
  },
  {
   "cell_type": "code",
   "execution_count": 6,
   "metadata": {},
   "outputs": [
    {
     "name": "stdout",
     "output_type": "stream",
     "text": [
      "있어요\n"
     ]
    }
   ],
   "source": [
    "인사 = '안녕하세요'\n",
    "if '안녕' in 인사 :\n",
    "    print('있어요')\n",
    "else : \n",
    "    print('없어요')"
   ]
  },
  {
   "cell_type": "code",
   "execution_count": 7,
   "metadata": {},
   "outputs": [
    {
     "name": "stdout",
     "output_type": "stream",
     "text": [
      "있어요\n"
     ]
    }
   ],
   "source": [
    "인사 = '안녕하세요'\n",
    "if '하세요' in 인사 :\n",
    "    print('있어요')\n",
    "else : \n",
    "    print('없어요')"
   ]
  },
  {
   "cell_type": "code",
   "execution_count": 8,
   "metadata": {
    "collapsed": true
   },
   "outputs": [
    {
     "name": "stdout",
     "output_type": "stream",
     "text": [
      "없어요\n"
     ]
    }
   ],
   "source": [
    "인사 = '안녕하세요'\n",
    "if '하세욥' in 인사 :\n",
    "    print('있어요')\n",
    "else : \n",
    "    print('없어요')"
   ]
  },
  {
   "cell_type": "code",
   "execution_count": 10,
   "metadata": {},
   "outputs": [
    {
     "name": "stdout",
     "output_type": "stream",
     "text": [
      "있어요\n"
     ]
    }
   ],
   "source": [
    "인사 = '안녕하세요'\n",
    "if '녕하' in 인사 :\n",
    "    print('있어요')\n",
    "else : \n",
    "    print('없어요')"
   ]
  },
  {
   "cell_type": "code",
   "execution_count": 11,
   "metadata": {
    "scrolled": true
   },
   "outputs": [
    {
     "name": "stdout",
     "output_type": "stream",
     "text": [
      "없어요\n"
     ]
    }
   ],
   "source": [
    "인사 = '안녕하세요'\n",
    "if '안하' in 인사 :\n",
    "    print('있어요')\n",
    "else : \n",
    "    print('없어요')"
   ]
  },
  {
   "cell_type": "markdown",
   "metadata": {},
   "source": [
    "**<font color=blue> 답 : 없다고 할 줄 알았는데... 있네? </font>**\n",
    "## <font color=green> Q.in 키워드는 문자열에서 메모리 그릇을 '하나씩' 살펴보는 게 아니었나?? </font> "
   ]
  },
  {
   "cell_type": "code",
   "execution_count": 12,
   "metadata": {
    "scrolled": true
   },
   "outputs": [
    {
     "name": "stdout",
     "output_type": "stream",
     "text": [
      "안\n",
      "녕\n",
      "하\n",
      "세\n",
      "요\n"
     ]
    }
   ],
   "source": [
    "인사 = '안녕하세요'\n",
    "for 단어하나 in 인사 :\n",
    "    print(단어하나)"
   ]
  },
  {
   "cell_type": "code",
   "execution_count": 13,
   "metadata": {},
   "outputs": [
    {
     "name": "stdout",
     "output_type": "stream",
     "text": [
      "결석\n",
      "50\n"
     ]
    }
   ],
   "source": [
    "scoreA = [60, '결석', '100', '70']\n",
    "scoreB = scoreA\n",
    "print(scoreB[1])\n",
    "scoreA[1]=50\n",
    "print(scoreB[1])"
   ]
  },
  {
   "cell_type": "code",
   "execution_count": 15,
   "metadata": {},
   "outputs": [
    {
     "name": "stdout",
     "output_type": "stream",
     "text": [
      "결석\n",
      "결석\n",
      "50\n"
     ]
    }
   ],
   "source": [
    "scoreA = [60, '결석', '100', '70']\n",
    "scoreB = scoreA[:]\n",
    "print(scoreB[1])\n",
    "scoreA[1]=50\n",
    "print(scoreB[1])\n",
    "print(scoreA[1])"
   ]
  },
  {
   "cell_type": "code",
   "execution_count": 17,
   "metadata": {},
   "outputs": [
    {
     "name": "stdout",
     "output_type": "stream",
     "text": [
      "a\n",
      "3\n",
      "name\n"
     ]
    }
   ],
   "source": [
    "# 딕셔너리에 for 사용해보기\n",
    "dic = {'a':'에이', 3:'30', 'name':'python'}\n",
    "\n",
    "for i in dic :\n",
    "    print(i)"
   ]
  },
  {
   "cell_type": "code",
   "execution_count": 18,
   "metadata": {},
   "outputs": [
    {
     "data": {
      "text/plain": [
       "'9개월'"
      ]
     },
     "execution_count": 18,
     "metadata": {},
     "output_type": "execute_result"
    }
   ],
   "source": [
    "개월수 = 9\n",
    "print(개월수)\n",
    "개월수 = '9개월'\n",
    "print(개월수)"
   ]
  },
  {
   "cell_type": "code",
   "execution_count": 20,
   "metadata": {},
   "outputs": [
    {
     "name": "stdout",
     "output_type": "stream",
     "text": [
      "1520727216\n",
      "1520727232\n"
     ]
    }
   ],
   "source": [
    "a = 1\n",
    "print(id(a))\n",
    "a = 2\n",
    "print(id(a)) #값을 바꾸니 메모리 주소가 바껴 = 파이썬에서는 사실 새 메모리 그릇을 만든 것"
   ]
  },
  {
   "cell_type": "code",
   "execution_count": 21,
   "metadata": {},
   "outputs": [
    {
     "name": "stdout",
     "output_type": "stream",
     "text": [
      "[1, 2, 3]\n",
      "108346888\n",
      "[1, 2, 4]\n",
      "108346888\n"
     ]
    }
   ],
   "source": [
    "# 리스트는 mutable 자료형이라 수정해도 메모리 그릇 안 바껴\n",
    "list = [1, 2, 3]\n",
    "print(list)\n",
    "print(id(list))\n",
    "list[2]=4\n",
    "print(list)\n",
    "print(id(list))"
   ]
  },
  {
   "cell_type": "code",
   "execution_count": null,
   "metadata": {},
   "outputs": [],
   "source": []
  },
  {
   "cell_type": "code",
   "execution_count": null,
   "metadata": {},
   "outputs": [],
   "source": []
  },
  {
   "cell_type": "code",
   "execution_count": null,
   "metadata": {},
   "outputs": [],
   "source": []
  },
  {
   "cell_type": "code",
   "execution_count": null,
   "metadata": {},
   "outputs": [],
   "source": []
  },
  {
   "cell_type": "code",
   "execution_count": null,
   "metadata": {},
   "outputs": [],
   "source": []
  }
 ],
 "metadata": {
  "kernelspec": {
   "display_name": "Python 3",
   "language": "python",
   "name": "python3"
  },
  "language_info": {
   "codemirror_mode": {
    "name": "ipython",
    "version": 3
   },
   "file_extension": ".py",
   "mimetype": "text/x-python",
   "name": "python",
   "nbconvert_exporter": "python",
   "pygments_lexer": "ipython3",
   "version": "3.8.5"
  }
 },
 "nbformat": 4,
 "nbformat_minor": 4
}
