{
 "cells": [
  {
   "cell_type": "markdown",
   "metadata": {},
   "source": [
    "# 1. 함수\n",
    "- 매개변수 parameter : 함수에 입력으로 전달된 값을 받는 변수\n",
    "- 인수 arguments : 함수를 호출할 때 전달하는 입력값\n",
    "- 입력값 유/무 * 결괏값(반환값) 유/무 => 총 4가지 "
   ]
  },
  {
   "cell_type": "code",
   "execution_count": 1,
   "metadata": {},
   "outputs": [
    {
     "data": {
      "text/plain": [
       "5"
      ]
     },
     "execution_count": 1,
     "metadata": {},
     "output_type": "execute_result"
    }
   ],
   "source": [
    "def add(a, b) :      # a, b 는 매개변수\n",
    "    return a+b\n",
    "add(1, 4)            # 1, 4 는 인수"
   ]
  },
  {
   "cell_type": "code",
   "execution_count": 2,
   "metadata": {},
   "outputs": [
    {
     "data": {
      "text/plain": [
       "'hi'"
      ]
     },
     "execution_count": 2,
     "metadata": {},
     "output_type": "execute_result"
    }
   ],
   "source": [
    "# 입력값이 없는 함수\n",
    "\n",
    "def say():\n",
    "    return('hi')\n",
    "say()"
   ]
  },
  {
   "cell_type": "code",
   "execution_count": 3,
   "metadata": {},
   "outputs": [
    {
     "name": "stdout",
     "output_type": "stream",
     "text": [
      "1, 3의 합은 4입니다.\n"
     ]
    }
   ],
   "source": [
    "# 결과값이 없는 함수\n",
    "\n",
    "def add(a, b) :\n",
    "    print(\"{}, {}의 합은 {}입니다.\".format(a, b, a+b))\n",
    "    \n",
    "add(1, 3)"
   ]
  },
  {
   "cell_type": "code",
   "execution_count": 4,
   "metadata": {},
   "outputs": [
    {
     "name": "stdout",
     "output_type": "stream",
     "text": [
      "3, 4의 합은 7입니다.\n"
     ]
    }
   ],
   "source": [
    "# 결과값이 없으므로 변수에 넣으면 오류날 줄 알았는데 -- 그대로 출력되네???\n",
    "# 출력이라는 함수가 수행할 문장으로서 실행은 된 거고\n",
    "b = add(3, 4)"
   ]
  },
  {
   "cell_type": "code",
   "execution_count": 5,
   "metadata": {},
   "outputs": [
    {
     "name": "stdout",
     "output_type": "stream",
     "text": [
      "None\n"
     ]
    }
   ],
   "source": [
    "print(b) #b 안에는 아무것도 안 들어있는 거야"
   ]
  },
  {
   "cell_type": "code",
   "execution_count": 6,
   "metadata": {},
   "outputs": [],
   "source": [
    "# 입력값도 결괏값도 없는 함수\n",
    "\n",
    "def say() :\n",
    "    print('hi')"
   ]
  },
  {
   "cell_type": "code",
   "execution_count": 7,
   "metadata": {},
   "outputs": [
    {
     "name": "stdout",
     "output_type": "stream",
     "text": [
      "hi\n"
     ]
    }
   ],
   "source": [
    "say()"
   ]
  },
  {
   "cell_type": "markdown",
   "metadata": {},
   "source": [
    "### 매개변수 지정하여 호출하기\n",
    "- 매개변수를 순서에 상관없이 사용할 수 있다."
   ]
  },
  {
   "cell_type": "code",
   "execution_count": 8,
   "metadata": {},
   "outputs": [],
   "source": [
    "def add(a, b) :\n",
    "    return a/b"
   ]
  },
  {
   "cell_type": "code",
   "execution_count": 9,
   "metadata": {},
   "outputs": [
    {
     "name": "stdout",
     "output_type": "stream",
     "text": [
      "2.3333333333333335\n"
     ]
    }
   ],
   "source": [
    "result = add(b=3, a=7)\n",
    "print(result)"
   ]
  },
  {
   "cell_type": "code",
   "execution_count": 10,
   "metadata": {},
   "outputs": [
    {
     "name": "stdout",
     "output_type": "stream",
     "text": [
      "0.42857142857142855\n"
     ]
    }
   ],
   "source": [
    "result = add(a=3, b=7)\n",
    "print(result)"
   ]
  },
  {
   "cell_type": "markdown",
   "metadata": {},
   "source": [
    "### 입력값이 몇 개가 될지 모를 때는?\n",
    "- *args\n",
    "- 입력값을 전부 모아서 튜플로 만들어 줌"
   ]
  },
  {
   "cell_type": "code",
   "execution_count": 11,
   "metadata": {},
   "outputs": [],
   "source": [
    "def add_all(*args) :\n",
    "    result = 0\n",
    "    for i in args :   \n",
    "        result += i\n",
    "    return result"
   ]
  },
  {
   "cell_type": "code",
   "execution_count": 12,
   "metadata": {},
   "outputs": [
    {
     "data": {
      "text/plain": [
       "6"
      ]
     },
     "execution_count": 12,
     "metadata": {},
     "output_type": "execute_result"
    }
   ],
   "source": [
    "add_all(1, 2, 3)"
   ]
  },
  {
   "cell_type": "code",
   "execution_count": 13,
   "metadata": {},
   "outputs": [
    {
     "data": {
      "text/plain": [
       "15"
      ]
     },
     "execution_count": 13,
     "metadata": {},
     "output_type": "execute_result"
    }
   ],
   "source": [
    "add_all(1, 2, 3, 4, 5)"
   ]
  },
  {
   "cell_type": "code",
   "execution_count": 14,
   "metadata": {},
   "outputs": [],
   "source": [
    "# *args와 분리해서 매개변수 더 사용 가능\n",
    "def add_mul(choice, *args) :\n",
    "    if choice == 'add' :\n",
    "        result = 0\n",
    "        for i in args :\n",
    "            result += i\n",
    "    elif choice == 'mul' :\n",
    "        result = 1\n",
    "        for i in args :\n",
    "            result += i\n",
    "    return result"
   ]
  },
  {
   "cell_type": "code",
   "execution_count": 15,
   "metadata": {},
   "outputs": [
    {
     "data": {
      "text/plain": [
       "6"
      ]
     },
     "execution_count": 15,
     "metadata": {},
     "output_type": "execute_result"
    }
   ],
   "source": [
    "add_mul('add', 1, 2, 3)"
   ]
  },
  {
   "cell_type": "markdown",
   "metadata": {},
   "source": [
    "## <font color=green> Q. 오류가 사라졌는데;; 아까는 result 변수에 로컬 변수 어쩌고 오류 떴었음. </font> "
   ]
  },
  {
   "cell_type": "code",
   "execution_count": 16,
   "metadata": {},
   "outputs": [
    {
     "data": {
      "text/plain": [
       "0.42857142857142855"
      ]
     },
     "execution_count": 16,
     "metadata": {},
     "output_type": "execute_result"
    }
   ],
   "source": [
    "result"
   ]
  },
  {
   "cell_type": "code",
   "execution_count": 17,
   "metadata": {},
   "outputs": [
    {
     "data": {
      "text/plain": [
       "7"
      ]
     },
     "execution_count": 17,
     "metadata": {},
     "output_type": "execute_result"
    }
   ],
   "source": [
    "add_mul('mul', 1, 2, 3)"
   ]
  },
  {
   "cell_type": "markdown",
   "metadata": {},
   "source": [
    "## 키워드 파라미터 keyword parameter\n",
    "- **kwargs\n",
    "- 매개변수가 딕셔너리로 전환 돼\n",
    "- 변수 = 값 => key = value"
   ]
  },
  {
   "cell_type": "code",
   "execution_count": 18,
   "metadata": {},
   "outputs": [],
   "source": [
    "def print_kwargs(**kwargs) :\n",
    "    print(kwargs)"
   ]
  },
  {
   "cell_type": "code",
   "execution_count": 19,
   "metadata": {},
   "outputs": [
    {
     "name": "stdout",
     "output_type": "stream",
     "text": [
      "{'a': 1}\n"
     ]
    }
   ],
   "source": [
    "print_kwargs(a=1)"
   ]
  },
  {
   "cell_type": "code",
   "execution_count": 20,
   "metadata": {},
   "outputs": [
    {
     "name": "stdout",
     "output_type": "stream",
     "text": [
      "{'name': 'foo', 'age': 3}\n"
     ]
    }
   ],
   "source": [
    "print_kwargs(name = 'foo', age = 3)"
   ]
  },
  {
   "cell_type": "markdown",
   "metadata": {},
   "source": [
    "### 함수의 특징 : 함수의 결괏값은 언제나 하나이다\n",
    "- return에 여러 값을 쓴다면 튜플이 됨\n",
    "- 함수는 return문을 만나는 순간 결괏값을 돌려준 다음 함수를 빠져나감\n",
    "- return으로 함수를 빠져나가는 방법은 실제 프로그래밍에서 자주 사용"
   ]
  },
  {
   "cell_type": "code",
   "execution_count": 6,
   "metadata": {},
   "outputs": [],
   "source": [
    "def add_and_mul(a, b) :\n",
    "    return a+b, a*b"
   ]
  },
  {
   "cell_type": "code",
   "execution_count": 7,
   "metadata": {},
   "outputs": [
    {
     "data": {
      "text/plain": [
       "(5, 6)"
      ]
     },
     "execution_count": 7,
     "metadata": {},
     "output_type": "execute_result"
    }
   ],
   "source": [
    "add_and_mul(2, 3) "
   ]
  },
  {
   "cell_type": "code",
   "execution_count": 8,
   "metadata": {},
   "outputs": [],
   "source": [
    "# 그러면 return을 2번 쓰면? => 첫 번째 return이 선택됨 . 즉,함수는 return문을 만나는 순간 결괏값을 돌려준 다음 함수를 빠져나가게 됨\n",
    "\n",
    "def add_and_mul(a, b) :\n",
    "    return a+b\n",
    "    return a*b"
   ]
  },
  {
   "cell_type": "code",
   "execution_count": 9,
   "metadata": {},
   "outputs": [
    {
     "data": {
      "text/plain": [
       "5"
      ]
     },
     "execution_count": 9,
     "metadata": {},
     "output_type": "execute_result"
    }
   ],
   "source": [
    "add_and_mul(2, 3) "
   ]
  },
  {
   "cell_type": "code",
   "execution_count": 10,
   "metadata": {},
   "outputs": [],
   "source": [
    "# 함수를 빠져나가고 싶을 때 리턴 단독으로 사용함\n",
    "def say_nick(nick):\n",
    "    if nick ==\"바보\" :\n",
    "        return\n",
    "    print(\"나의 별명은 {}입니다.\".format(nick))"
   ]
  },
  {
   "cell_type": "code",
   "execution_count": 15,
   "metadata": {},
   "outputs": [
    {
     "name": "stdout",
     "output_type": "stream",
     "text": [
      "나의 별명은 nickkkk입니다.\n",
      "None\n"
     ]
    }
   ],
   "source": [
    "a = say_nick(\"nickkkk\")\n",
    "print(a)                  # 함수를 실행해서 문장이 프린트는 되지만 반환값은 없음"
   ]
  },
  {
   "cell_type": "code",
   "execution_count": 13,
   "metadata": {},
   "outputs": [],
   "source": [
    "say_nick(\"바보\")   # 바보라는 별명에는 반응하지 않아"
   ]
  },
  {
   "cell_type": "markdown",
   "metadata": {},
   "source": [
    "#### <font color=red> 오!! 기억해두면 좋은 팁이야. 반환값 없는 함수를 만들 때,<br> 함수를 특정 시점에서 끝내고 싶거나 무시하고 싶은 조건이 있을 때 사용해보자 </font> "
   ]
  },
  {
   "cell_type": "markdown",
   "metadata": {},
   "source": [
    "### 매개변수에 초깃값 미리 설정\n",
    "- 디폴트 값을 주고, 따로 적지 않으면 디폴트 값을 사용"
   ]
  },
  {
   "cell_type": "code",
   "execution_count": 16,
   "metadata": {},
   "outputs": [],
   "source": [
    "def say_myself(name, age, woman=True) :\n",
    "    print(\"나의 이름은 {}입니다.\".format(name))\n",
    "    print(\"나의 나이는 {}입니다.\".format(age))\n",
    "    if woman :\n",
    "        print(\"여자입니다.\")\n",
    "    else :\n",
    "        print(\"남자입니다.\")"
   ]
  },
  {
   "cell_type": "code",
   "execution_count": 17,
   "metadata": {},
   "outputs": [
    {
     "name": "stdout",
     "output_type": "stream",
     "text": [
      "나의 이름은 김영희입니다.\n",
      "나의 나이는 20입니다.\n",
      "여자입니다.\n"
     ]
    }
   ],
   "source": [
    "say_myself(\"김영희\", 20)"
   ]
  },
  {
   "cell_type": "code",
   "execution_count": 19,
   "metadata": {},
   "outputs": [
    {
     "name": "stdout",
     "output_type": "stream",
     "text": [
      "나의 이름은 김영희입니다.\n",
      "나의 나이는 20입니다.\n",
      "여자입니다.\n"
     ]
    }
   ],
   "source": [
    "say_myself(\"김영희\", 20, True)"
   ]
  },
  {
   "cell_type": "code",
   "execution_count": 18,
   "metadata": {},
   "outputs": [
    {
     "name": "stdout",
     "output_type": "stream",
     "text": [
      "나의 이름은 김영희입니다.\n",
      "나의 나이는 20입니다.\n",
      "남자입니다.\n"
     ]
    }
   ],
   "source": [
    "say_myself(\"김영희\", 20, False)"
   ]
  },
  {
   "cell_type": "code",
   "execution_count": 20,
   "metadata": {},
   "outputs": [],
   "source": [
    "# 주의사항 : 초기화시키고 싶은 매개변수를 항상 뒤쪽에 놓기"
   ]
  },
  {
   "cell_type": "code",
   "execution_count": 21,
   "metadata": {},
   "outputs": [
    {
     "ename": "SyntaxError",
     "evalue": "non-default argument follows default argument (<ipython-input-21-f0e0bda06598>, line 1)",
     "output_type": "error",
     "traceback": [
      "\u001b[1;36m  File \u001b[1;32m\"<ipython-input-21-f0e0bda06598>\"\u001b[1;36m, line \u001b[1;32m1\u001b[0m\n\u001b[1;33m    def say_myself(name, woman=True, age) :\u001b[0m\n\u001b[1;37m                   ^\u001b[0m\n\u001b[1;31mSyntaxError\u001b[0m\u001b[1;31m:\u001b[0m non-default argument follows default argument\n"
     ]
    }
   ],
   "source": [
    "def say_myself(name, woman=True, age) :   \n",
    "    print(\"나의 이름은 {}입니다.\".format(name))\n",
    "    print(\"나의 나이는 {}입니다.\".format(age))\n",
    "    if woman :\n",
    "        print(\"여자입니다.\")\n",
    "    else :\n",
    "        print(\"남자입니다.\")                         # 오류 : 디폴트 args 뒤에 non-디폴트 args 따라올 수 없다"
   ]
  },
  {
   "cell_type": "markdown",
   "metadata": {},
   "source": [
    "### 함수 안에서 선언한 변수의 효력 범위\n",
    "- 함수 안에서 사용하는 매개변수는 함수 밖의 변수 이름과는 상관 X "
   ]
  },
  {
   "cell_type": "code",
   "execution_count": 22,
   "metadata": {},
   "outputs": [],
   "source": [
    "a = 1\n",
    "def vartest(a) :  # 여기서 a는 함수 안의 변수\n",
    "    a+=1"
   ]
  },
  {
   "cell_type": "code",
   "execution_count": 23,
   "metadata": {},
   "outputs": [],
   "source": [
    "vartest(a)"
   ]
  },
  {
   "cell_type": "code",
   "execution_count": 24,
   "metadata": {
    "scrolled": true
   },
   "outputs": [
    {
     "data": {
      "text/plain": [
       "1"
      ]
     },
     "execution_count": 24,
     "metadata": {},
     "output_type": "execute_result"
    }
   ],
   "source": [
    "a"
   ]
  },
  {
   "cell_type": "markdown",
   "metadata": {},
   "source": [
    "#### 함수 안에서 함수 밖의 변수를 변경하는 방법\n",
    "- return 함수 사용 <- 가급적 이 방법 사용\n",
    "- global 명령어 사용 \n",
    "    - global 명령어는 사용하지 않는 것이 좋아 <br>\n",
    "    ∵ 함수는 독립적으로 존재하는 것이 좋기 때문에, 외부 변수에 종속되는 함수는 그다지 좋은 함수 아냐"
   ]
  },
  {
   "cell_type": "code",
   "execution_count": 30,
   "metadata": {},
   "outputs": [
    {
     "name": "stdout",
     "output_type": "stream",
     "text": [
      "2\n"
     ]
    }
   ],
   "source": [
    "# return 사용하는 방법\n",
    "\n",
    "a = 1\n",
    "def vartest(a) :\n",
    "    a += 1\n",
    "    return a\n",
    "\n",
    "a = vartest(a)    # vartest(a)의 결괏값을 함수 밖의 변수 a에 대입\n",
    "print(a)"
   ]
  },
  {
   "cell_type": "code",
   "execution_count": 29,
   "metadata": {},
   "outputs": [
    {
     "name": "stdout",
     "output_type": "stream",
     "text": [
      "2\n"
     ]
    }
   ],
   "source": [
    "#global 명령어 사용하는 방법\n",
    "\n",
    "a = 1\n",
    "def vartest():\n",
    "    global a     # 함수 안에서 함수 밖의 a 변수를 직접 사용하겠다는 뜻\n",
    "    a += 1\n",
    "    \n",
    "vartest()\n",
    "print(a)"
   ]
  },
  {
   "cell_type": "markdown",
   "metadata": {},
   "source": [
    "## lambda\n",
    "- 함수이름 = lambda 매개변수1, 매개변수2, ... : 매개변수를 사용한 표현식\n",
    "- 함수를 생성하는 예약어. def와 동일한 역할\n",
    "- 보통 함수를 한 줄로 간결하게 만들 때 사용\n",
    "- def를 사용해야 할 정도로 복잡하지 않거나 def를 사용할 수 없는 곳에 주로 쓰임"
   ]
  },
  {
   "cell_type": "code",
   "execution_count": 31,
   "metadata": {},
   "outputs": [
    {
     "data": {
      "text/plain": [
       "7"
      ]
     },
     "execution_count": 31,
     "metadata": {},
     "output_type": "execute_result"
    }
   ],
   "source": [
    "add = lambda a, b : a+b\n",
    "result = add(3, 4)\n",
    "result"
   ]
  },
  {
   "cell_type": "code",
   "execution_count": 32,
   "metadata": {},
   "outputs": [
    {
     "data": {
      "text/plain": [
       "9"
      ]
     },
     "execution_count": 32,
     "metadata": {},
     "output_type": "execute_result"
    }
   ],
   "source": [
    "add(2, 7)"
   ]
  },
  {
   "cell_type": "markdown",
   "metadata": {},
   "source": [
    "###  <font color=magenta>8월 19일</font>"
   ]
  },
  {
   "cell_type": "markdown",
   "metadata": {},
   "source": [
    "# 2. 사용자의 입력과 출력"
   ]
  },
  {
   "cell_type": "markdown",
   "metadata": {},
   "source": [
    "## 입력\n",
    "- input(\"질문\") : \"질문\"이 안내문구로 뜨고 사용자가 입력한 값이 input()함수의 리턴값으로 나온다"
   ]
  },
  {
   "cell_type": "code",
   "execution_count": 1,
   "metadata": {
    "scrolled": true
   },
   "outputs": [
    {
     "name": "stdout",
     "output_type": "stream",
     "text": [
      "사용자가 입력한 키워드\n",
      "사용자가 입력한 키워드\n"
     ]
    }
   ],
   "source": [
    "a = input()\n",
    "print(a)"
   ]
  },
  {
   "cell_type": "code",
   "execution_count": 2,
   "metadata": {},
   "outputs": [
    {
     "name": "stdout",
     "output_type": "stream",
     "text": [
      "숫자를 입력하세요3\n"
     ]
    },
    {
     "data": {
      "text/plain": [
       "str"
      ]
     },
     "execution_count": 2,
     "metadata": {},
     "output_type": "execute_result"
    }
   ],
   "source": [
    "# input은 입력되는 모든 것을 문자열로 취급\n",
    "\n",
    "num = input(\"숫자를 입력하세요\")\n",
    "type(num)"
   ]
  },
  {
   "cell_type": "code",
   "execution_count": 3,
   "metadata": {},
   "outputs": [
    {
     "name": "stdout",
     "output_type": "stream",
     "text": [
      "숫자를 입력하세요23\n"
     ]
    },
    {
     "data": {
      "text/plain": [
       "int"
      ]
     },
     "execution_count": 3,
     "metadata": {},
     "output_type": "execute_result"
    }
   ],
   "source": [
    "num = int(input(\"숫자를 입력하세요\"))\n",
    "type(num)"
   ]
  },
  {
   "cell_type": "markdown",
   "metadata": {},
   "source": [
    "## 출력"
   ]
  },
  {
   "cell_type": "code",
   "execution_count": 4,
   "metadata": {},
   "outputs": [
    {
     "name": "stdout",
     "output_type": "stream",
     "text": [
      "lifeistoo short\n",
      "lifeistoo short\n"
     ]
    }
   ],
   "source": [
    "# 큰따옴표로 둘러싸인 문자열은 + 연산과 동일하다.\n",
    "\n",
    "print(\"life\" \"is\" \"too short\")\n",
    "print(\"life\" + \"is\" + \"too short\")"
   ]
  },
  {
   "cell_type": "markdown",
   "metadata": {},
   "source": [
    "**<font color=blue> 실험 : 작은 따옴표, 컴마 넣기 등 다른 패턴들은? </font>**"
   ]
  },
  {
   "cell_type": "code",
   "execution_count": 6,
   "metadata": {},
   "outputs": [
    {
     "name": "stdout",
     "output_type": "stream",
     "text": [
      "lifeistoo short\n",
      "life is too short\n"
     ]
    }
   ],
   "source": [
    "# 작은 따옴표\n",
    "print('life' + 'is' + 'too short')\n",
    "\n",
    "# 컴마 넣기\n",
    "print(\"life\", \"is\", \"too short\")"
   ]
  },
  {
   "cell_type": "markdown",
   "metadata": {},
   "source": [
    "**<font color=blue> 답 : 작은 따옴표는 똑같고, 컴마는 띄어쓰기 해줘서 다름 </font>**"
   ]
  },
  {
   "cell_type": "code",
   "execution_count": 7,
   "metadata": {},
   "outputs": [
    {
     "name": "stdout",
     "output_type": "stream",
     "text": [
      "life is too short\n"
     ]
    }
   ],
   "source": [
    "# 문자열 띄어쓰기는 콤마로 한다 (바로 다음에 나오는군ㅋㅋㅋ)\n",
    "\n",
    "print(\"life\", \"is\", \"too short\")"
   ]
  },
  {
   "cell_type": "code",
   "execution_count": 8,
   "metadata": {},
   "outputs": [
    {
     "name": "stdout",
     "output_type": "stream",
     "text": [
      "0 1 2 3 4 5 6 7 8 9 "
     ]
    }
   ],
   "source": [
    "# 한 줄에 결괏값 출력하기 - 매개변수 end를 사용해 끝 문자 지정 가능 - 기본값이 줄바꿈\n",
    "\n",
    "for i in range(10) :\n",
    "    print(i, end = ' ')"
   ]
  },
  {
   "cell_type": "markdown",
   "metadata": {},
   "source": [
    "- 지금까지는 사용자가 값을 직접 '입력', 모니터 화면에 결괏값을 '출력'\n",
    "- 이제는 파일을 통한 입출력 방법을 알아보자"
   ]
  },
  {
   "cell_type": "markdown",
   "metadata": {},
   "source": [
    "# 3. 파일 읽고 쓰기\n",
    "- 파일 새로 만들기\n",
    "- 프로그램이 만든 결괏값을 새 파일에 적기\n",
    "- 파일에 적은 내용 읽기\n",
    "- 새로은 내용 추가"
   ]
  },
  {
   "cell_type": "markdown",
   "metadata": {},
   "source": [
    "### 파일 생성하기\n",
    "- 파일 객체 = open(파일 이름, 파일 열기 모드)\n",
    "- 파일 열기 모드 3가지\n",
    "    - r : 읽기 모드\n",
    "    - w : 쓰기 모드 => 해당 파일 이미 존재하면 원래 있던 내용 사라져, 해당 파일 없으면 새로운 파일 생성\n",
    "    - a : 추가 모드 (파일의 마지막에 새로운 내용을 추가할 때 사용)"
   ]
  },
  {
   "cell_type": "code",
   "execution_count": 10,
   "metadata": {},
   "outputs": [],
   "source": [
    "f = open(\"새파일.txt\", 'w')\n",
    "f.close()"
   ]
  },
  {
   "cell_type": "code",
   "execution_count": 11,
   "metadata": {},
   "outputs": [
    {
     "ename": "SyntaxError",
     "evalue": "(unicode error) 'unicodeescape' codec can't decode bytes in position 2-3: truncated \\UXXXXXXXX escape (<ipython-input-11-2c3a58d9d4fa>, line 3)",
     "output_type": "error",
     "traceback": [
      "\u001b[1;36m  File \u001b[1;32m\"<ipython-input-11-2c3a58d9d4fa>\"\u001b[1;36m, line \u001b[1;32m3\u001b[0m\n\u001b[1;33m    f = open(\"C:\\Users\\owner\\StepByStep/새파일2.txt\", 'w')\u001b[0m\n\u001b[1;37m             ^\u001b[0m\n\u001b[1;31mSyntaxError\u001b[0m\u001b[1;31m:\u001b[0m (unicode error) 'unicodeescape' codec can't decode bytes in position 2-3: truncated \\UXXXXXXXX escape\n"
     ]
    }
   ],
   "source": [
    "# 디렉토리 설정\n",
    "# 지금 경우는 파일탐색기에 있는 디렉토리를 복사해다 사용함 (그래서 슬래시(/)대신 역슬래시(\\)가 붙어있음)\n",
    "# 그대로 사용했더니 신텍스 오류가 남 - 이스케이프 코드라서 디코딩 안 된다??\n",
    "\n",
    "f = open(\"C:\\Users\\owner\\StepByStep/새파일2.txt\", 'w')\n",
    "f.close()"
   ]
  },
  {
   "cell_type": "code",
   "execution_count": 12,
   "metadata": {},
   "outputs": [],
   "source": [
    "f = open(\"C:/Users/owner/StepByStep/새파일2.txt\", 'w')\n",
    "f.close()"
   ]
  },
  {
   "cell_type": "markdown",
   "metadata": {},
   "source": [
    "### 객체 닫기\n",
    "- close()\n",
    "- 생략해도 되긴 함 (프로그램 종료 시 파이썬 프로그램이 열려 있는 파일의 객체 자동으로 닫아주기 때문에)\n",
    "- 하지만 close()를 사용해서 열려 있는 파일을 직접 닫아 주는 것이 좋아 <br>\n",
    "(쓰기 모드로 열었던 파일을 닫지 않고 다시 사용하려고 하면 오류가 발생하기 때문에)"
   ]
  },
  {
   "cell_type": "markdown",
   "metadata": {},
   "source": [
    "### 쓰기모드로 열고, 출력값 적기\n",
    "- write(적을 것)"
   ]
  },
  {
   "cell_type": "code",
   "execution_count": 14,
   "metadata": {},
   "outputs": [],
   "source": [
    "f = open(\"새파일.txt\", 'w')\n",
    "for i in range(1, 11) : \n",
    "    data = \"{}번째 줄입니다.\\n\".format(i)\n",
    "    f.write(data)\n",
    "f.close()\n",
    "\n",
    "# 앞에서 언급했듯이 w는 원래 파일이 있다면 그걸 삭제하고 새로 만들기 때문에\n",
    "# 이 줄을 (어떻게 부르는지 찾아보자) 여러 번 실행해도 같은 결과물 그대로 나와 (누적되는 게 아니라)"
   ]
  },
  {
   "cell_type": "markdown",
   "metadata": {},
   "source": [
    "### 외부에 저장된 파일 읽기\n",
    "- readline \n",
    "- readlines \n",
    "- read "
   ]
  },
  {
   "cell_type": "code",
   "execution_count": null,
   "metadata": {},
   "outputs": [],
   "source": []
  },
  {
   "cell_type": "code",
   "execution_count": null,
   "metadata": {},
   "outputs": [],
   "source": []
  },
  {
   "cell_type": "code",
   "execution_count": null,
   "metadata": {},
   "outputs": [],
   "source": []
  },
  {
   "cell_type": "code",
   "execution_count": null,
   "metadata": {},
   "outputs": [],
   "source": []
  },
  {
   "cell_type": "code",
   "execution_count": null,
   "metadata": {},
   "outputs": [],
   "source": []
  }
 ],
 "metadata": {
  "kernelspec": {
   "display_name": "Python 3",
   "language": "python",
   "name": "python3"
  },
  "language_info": {
   "codemirror_mode": {
    "name": "ipython",
    "version": 3
   },
   "file_extension": ".py",
   "mimetype": "text/x-python",
   "name": "python",
   "nbconvert_exporter": "python",
   "pygments_lexer": "ipython3",
   "version": "3.8.5"
  }
 },
 "nbformat": 4,
 "nbformat_minor": 4
}
